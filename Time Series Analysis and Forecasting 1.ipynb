{
 "cells": [
  {
   "cell_type": "markdown",
   "id": "671b4124",
   "metadata": {},
   "source": [
    "* Name - Nikhil Kulkarni\n",
    "* College - Pune Institute of Computer Technology, Pune"
   ]
  },
  {
   "cell_type": "code",
   "execution_count": null,
   "id": "2005ba9e",
   "metadata": {},
   "outputs": [],
   "source": [
    "import numpy as np\n",
    "import pandas as pd\n",
    "import matplotlib.pyplot as plt\n",
    "%matplotlib inline\n",
    "import seaborn as sns"
   ]
  },
  {
   "cell_type": "code",
   "execution_count": 1,
   "id": "a3f02021",
   "metadata": {},
   "outputs": [],
   "source": [
    "data = pd.read_csv(\"data.csv\", index_col=[0], parse_dates=[0], squeeze=True)"
   ]
  },
  {
   "cell_type": "code",
   "execution_count": 9,
   "id": "9dedd699",
   "metadata": {},
   "outputs": [
    {
     "data": {
      "text/html": [
       "<div>\n",
       "<style scoped>\n",
       "    .dataframe tbody tr th:only-of-type {\n",
       "        vertical-align: middle;\n",
       "    }\n",
       "\n",
       "    .dataframe tbody tr th {\n",
       "        vertical-align: top;\n",
       "    }\n",
       "\n",
       "    .dataframe thead th {\n",
       "        text-align: right;\n",
       "    }\n",
       "</style>\n",
       "<table border=\"1\" class=\"dataframe\">\n",
       "  <thead>\n",
       "    <tr style=\"text-align: right;\">\n",
       "      <th></th>\n",
       "      <th>date</th>\n",
       "      <th>dish_id_1</th>\n",
       "    </tr>\n",
       "  </thead>\n",
       "  <tbody>\n",
       "    <tr>\n",
       "      <th>0</th>\n",
       "      <td>2019-01-01</td>\n",
       "      <td>120</td>\n",
       "    </tr>\n",
       "    <tr>\n",
       "      <th>1</th>\n",
       "      <td>2019-01-02</td>\n",
       "      <td>316</td>\n",
       "    </tr>\n",
       "    <tr>\n",
       "      <th>2</th>\n",
       "      <td>2019-01-03</td>\n",
       "      <td>302</td>\n",
       "    </tr>\n",
       "    <tr>\n",
       "      <th>3</th>\n",
       "      <td>2019-01-04</td>\n",
       "      <td>334</td>\n",
       "    </tr>\n",
       "    <tr>\n",
       "      <th>4</th>\n",
       "      <td>2019-01-05</td>\n",
       "      <td>189</td>\n",
       "    </tr>\n",
       "  </tbody>\n",
       "</table>\n",
       "</div>"
      ],
      "text/plain": [
       "         date  dish_id_1\n",
       "0  2019-01-01        120\n",
       "1  2019-01-02        316\n",
       "2  2019-01-03        302\n",
       "3  2019-01-04        334\n",
       "4  2019-01-05        189"
      ]
     },
     "execution_count": 9,
     "metadata": {},
     "output_type": "execute_result"
    }
   ],
   "source": [
    "data.head()"
   ]
  },
  {
   "cell_type": "code",
   "execution_count": 10,
   "id": "c16b1019",
   "metadata": {},
   "outputs": [
    {
     "data": {
      "text/plain": [
       "pandas.core.frame.DataFrame"
      ]
     },
     "execution_count": 10,
     "metadata": {},
     "output_type": "execute_result"
    }
   ],
   "source": [
    "type(data)"
   ]
  },
  {
   "cell_type": "code",
   "execution_count": 11,
   "id": "1f392faf",
   "metadata": {},
   "outputs": [
    {
     "data": {
      "text/plain": [
       "array([['2019-01-01', 120],\n",
       "       ['2019-01-02', 316],\n",
       "       ['2019-01-03', 302],\n",
       "       ['2019-01-04', 334],\n",
       "       ['2019-01-05', 189],\n",
       "       ['2019-01-06', 109],\n",
       "       ['2019-01-07', 352],\n",
       "       ['2019-01-08', 361],\n",
       "       ['2019-01-09', 369],\n",
       "       ['2019-01-10', 393],\n",
       "       ['2019-01-11', 345],\n",
       "       ['2019-01-12', 223],\n",
       "       ['2019-01-13', 120],\n",
       "       ['2019-01-14', 353],\n",
       "       ['2019-01-15', 346],\n",
       "       ['2019-01-16', 302],\n",
       "       ['2019-01-17', 365],\n",
       "       ['2019-01-18', 281],\n",
       "       ['2019-01-19', 183],\n",
       "       ['2019-01-20', 163],\n",
       "       ['2019-01-21', 381],\n",
       "       ['2019-01-22', 340],\n",
       "       ['2019-01-23', 324],\n",
       "       ['2019-01-24', 322],\n",
       "       ['2019-01-25', 319],\n",
       "       ['2019-01-26', 102],\n",
       "       ['2019-01-27', 191],\n",
       "       ['2019-01-28', 365],\n",
       "       ['2019-01-29', 363],\n",
       "       ['2019-01-30', 355],\n",
       "       ['2019-01-31', 320],\n",
       "       ['2019-02-01', 365],\n",
       "       ['2019-02-02', 204],\n",
       "       ['2019-02-03', 119],\n",
       "       ['2019-02-04', 353],\n",
       "       ['2019-02-05', 275],\n",
       "       ['2019-02-06', 298],\n",
       "       ['2019-02-07', 403],\n",
       "       ['2019-02-08', 316],\n",
       "       ['2019-02-09', 159],\n",
       "       ['2019-02-10', 89],\n",
       "       ['2019-02-11', 210],\n",
       "       ['2019-02-12', 338],\n",
       "       ['2019-02-13', 1],\n",
       "       ['2019-02-14', 0],\n",
       "       ['2019-02-15', 271],\n",
       "       ['2019-02-16', 174],\n",
       "       ['2019-02-17', 167],\n",
       "       ['2019-02-18', 259],\n",
       "       ['2019-02-19', 273],\n",
       "       ['2019-02-20', 281],\n",
       "       ['2019-02-21', 280],\n",
       "       ['2019-02-22', 247],\n",
       "       ['2019-02-23', 148],\n",
       "       ['2019-02-24', 94],\n",
       "       ['2019-02-25', 222],\n",
       "       ['2019-02-26', 266],\n",
       "       ['2019-02-27', 233],\n",
       "       ['2019-02-28', 245],\n",
       "       ['2019-03-01', 247],\n",
       "       ['2019-03-02', 208],\n",
       "       ['2019-03-03', 162],\n",
       "       ['2019-03-04', 240],\n",
       "       ['2019-03-05', 247],\n",
       "       ['2019-03-06', 244],\n",
       "       ['2019-03-07', 212],\n",
       "       ['2019-03-08', 207],\n",
       "       ['2019-03-09', 157],\n",
       "       ['2019-03-10', 62],\n",
       "       ['2019-03-11', 232],\n",
       "       ['2019-03-12', 257],\n",
       "       ['2019-03-13', 258],\n",
       "       ['2019-03-14', 260],\n",
       "       ['2019-03-15', 159],\n",
       "       ['2019-03-16', 116],\n",
       "       ['2019-03-17', 92],\n",
       "       ['2019-03-18', 172],\n",
       "       ['2019-03-19', 175],\n",
       "       ['2019-03-20', 85],\n",
       "       ['2019-03-23', 103],\n",
       "       ['2019-03-24', 36],\n",
       "       ['2019-03-25', 175],\n",
       "       ['2019-03-26', 175],\n",
       "       ['2019-03-27', 161],\n",
       "       ['2019-03-28', 130],\n",
       "       ['2019-03-29', 131],\n",
       "       ['2019-03-30', 96],\n",
       "       ['2019-03-31', 72],\n",
       "       ['2019-04-01', 98],\n",
       "       ['2019-04-02', 127],\n",
       "       ['2019-04-03', 127],\n",
       "       ['2019-04-04', 107],\n",
       "       ['2019-04-05', 83],\n",
       "       ['2019-04-06', 49],\n",
       "       ['2019-04-07', 34],\n",
       "       ['2019-04-08', 113],\n",
       "       ['2019-04-09', 107],\n",
       "       ['2019-04-10', 106],\n",
       "       ['2019-04-12', 141],\n",
       "       ['2019-04-13', 62],\n",
       "       ['2019-04-14', 0],\n",
       "       ['2019-04-15', 82],\n",
       "       ['2019-04-16', 119],\n",
       "       ['2019-04-17', 156],\n",
       "       ['2019-04-18', 121],\n",
       "       ['2019-04-19', 83],\n",
       "       ['2019-04-20', 57],\n",
       "       ['2019-04-21', 24],\n",
       "       ['2019-04-22', 93],\n",
       "       ['2019-04-23', 71],\n",
       "       ['2019-04-24', 59],\n",
       "       ['2019-04-25', 90],\n",
       "       ['2019-04-26', 94],\n",
       "       ['2019-04-27', 84],\n",
       "       ['2019-04-28', 27],\n",
       "       ['2019-04-29', 103],\n",
       "       ['2019-04-30', 114],\n",
       "       ['2019-05-01', 96],\n",
       "       ['2019-05-02', 149],\n",
       "       ['2019-05-03', 159],\n",
       "       ['2019-05-04', 73],\n",
       "       ['2019-05-05', 42],\n",
       "       ['2019-05-06', 177],\n",
       "       ['2019-05-07', 74],\n",
       "       ['2019-05-08', 78],\n",
       "       ['2019-05-09', 70],\n",
       "       ['2019-05-10', 77],\n",
       "       ['2019-05-11', 80],\n",
       "       ['2019-05-12', 42],\n",
       "       ['2019-05-13', 125],\n",
       "       ['2019-05-14', 104],\n",
       "       ['2019-05-15', 95],\n",
       "       ['2019-05-16', 111],\n",
       "       ['2019-05-17', 122],\n",
       "       ['2019-05-18', 69],\n",
       "       ['2019-05-19', 37],\n",
       "       ['2019-05-20', 114],\n",
       "       ['2019-05-21', 88],\n",
       "       ['2019-05-22', 112],\n",
       "       ['2019-05-23', 162],\n",
       "       ['2019-05-24', 115],\n",
       "       ['2019-05-25', 55],\n",
       "       ['2019-05-26', 10],\n",
       "       ['2019-05-27', 94],\n",
       "       ['2019-05-28', 90],\n",
       "       ['2019-05-29', 73],\n",
       "       ['2019-05-30', 91],\n",
       "       ['2019-05-31', 85],\n",
       "       ['2019-06-01', 55],\n",
       "       ['2019-06-02', 19],\n",
       "       ['2019-06-03', 78],\n",
       "       ['2019-06-04', 70],\n",
       "       ['2019-06-05', 74],\n",
       "       ['2019-06-06', 75],\n",
       "       ['2019-06-07', 94],\n",
       "       ['2019-06-08', 54],\n",
       "       ['2019-06-09', 25],\n",
       "       ['2019-06-10', 82],\n",
       "       ['2019-06-11', 126],\n",
       "       ['2019-06-12', 96],\n",
       "       ['2019-06-13', 75],\n",
       "       ['2019-06-14', 87],\n",
       "       ['2019-06-15', 69],\n",
       "       ['2019-06-16', 34],\n",
       "       ['2019-06-17', 173],\n",
       "       ['2019-06-18', 162],\n",
       "       ['2019-06-19', 110],\n",
       "       ['2019-06-20', 109],\n",
       "       ['2019-06-21', 127],\n",
       "       ['2019-06-22', 72],\n",
       "       ['2019-06-23', 18],\n",
       "       ['2019-06-24', 151],\n",
       "       ['2019-06-25', 106],\n",
       "       ['2019-06-26', 124],\n",
       "       ['2019-06-27', 111],\n",
       "       ['2019-06-28', 93],\n",
       "       ['2019-06-29', 55],\n",
       "       ['2019-06-30', 32],\n",
       "       ['2019-07-01', 97],\n",
       "       ['2019-07-02', 100],\n",
       "       ['2019-07-03', 91],\n",
       "       ['2019-07-04', 139],\n",
       "       ['2019-07-05', 195],\n",
       "       ['2019-07-06', 56],\n",
       "       ['2019-07-07', 42],\n",
       "       ['2019-07-08', 135],\n",
       "       ['2019-07-09', 123],\n",
       "       ['2019-07-10', 136],\n",
       "       ['2019-07-11', 142],\n",
       "       ['2019-07-12', 139],\n",
       "       ['2019-07-13', 82],\n",
       "       ['2019-07-14', 35],\n",
       "       ['2019-07-15', 168],\n",
       "       ['2019-07-16', 135],\n",
       "       ['2019-07-17', 213],\n",
       "       ['2019-07-18', 317],\n",
       "       ['2019-07-19', 158],\n",
       "       ['2019-07-20', 175],\n",
       "       ['2019-07-21', 114],\n",
       "       ['2019-07-22', 148],\n",
       "       ['2019-07-23', 133],\n",
       "       ['2019-07-24', 178],\n",
       "       ['2019-07-25', 239],\n",
       "       ['2019-07-26', 207],\n",
       "       ['2019-07-27', 158],\n",
       "       ['2019-07-28', 73],\n",
       "       ['2019-07-29', 160],\n",
       "       ['2019-07-30', 146],\n",
       "       ['2019-07-31', 178]], dtype=object)"
      ]
     },
     "execution_count": 11,
     "metadata": {},
     "output_type": "execute_result"
    }
   ],
   "source": [
    "series_value = data.values\n",
    "series_value"
   ]
  },
  {
   "cell_type": "code",
   "execution_count": 12,
   "id": "3db4efc3",
   "metadata": {},
   "outputs": [
    {
     "data": {
      "text/plain": [
       "numpy.ndarray"
      ]
     },
     "execution_count": 12,
     "metadata": {},
     "output_type": "execute_result"
    }
   ],
   "source": [
    "type(series_value)"
   ]
  },
  {
   "cell_type": "code",
   "execution_count": 13,
   "id": "509480a5",
   "metadata": {},
   "outputs": [
    {
     "data": {
      "text/plain": [
       "418"
      ]
     },
     "execution_count": 13,
     "metadata": {},
     "output_type": "execute_result"
    }
   ],
   "source": [
    "data.size"
   ]
  },
  {
   "cell_type": "code",
   "execution_count": 14,
   "id": "88876073",
   "metadata": {},
   "outputs": [
    {
     "data": {
      "text/html": [
       "<div>\n",
       "<style scoped>\n",
       "    .dataframe tbody tr th:only-of-type {\n",
       "        vertical-align: middle;\n",
       "    }\n",
       "\n",
       "    .dataframe tbody tr th {\n",
       "        vertical-align: top;\n",
       "    }\n",
       "\n",
       "    .dataframe thead th {\n",
       "        text-align: right;\n",
       "    }\n",
       "</style>\n",
       "<table border=\"1\" class=\"dataframe\">\n",
       "  <thead>\n",
       "    <tr style=\"text-align: right;\">\n",
       "      <th></th>\n",
       "      <th>date</th>\n",
       "      <th>dish_id_1</th>\n",
       "    </tr>\n",
       "  </thead>\n",
       "  <tbody>\n",
       "    <tr>\n",
       "      <th>204</th>\n",
       "      <td>2019-07-27</td>\n",
       "      <td>158</td>\n",
       "    </tr>\n",
       "    <tr>\n",
       "      <th>205</th>\n",
       "      <td>2019-07-28</td>\n",
       "      <td>73</td>\n",
       "    </tr>\n",
       "    <tr>\n",
       "      <th>206</th>\n",
       "      <td>2019-07-29</td>\n",
       "      <td>160</td>\n",
       "    </tr>\n",
       "    <tr>\n",
       "      <th>207</th>\n",
       "      <td>2019-07-30</td>\n",
       "      <td>146</td>\n",
       "    </tr>\n",
       "    <tr>\n",
       "      <th>208</th>\n",
       "      <td>2019-07-31</td>\n",
       "      <td>178</td>\n",
       "    </tr>\n",
       "  </tbody>\n",
       "</table>\n",
       "</div>"
      ],
      "text/plain": [
       "           date  dish_id_1\n",
       "204  2019-07-27        158\n",
       "205  2019-07-28         73\n",
       "206  2019-07-29        160\n",
       "207  2019-07-30        146\n",
       "208  2019-07-31        178"
      ]
     },
     "execution_count": 14,
     "metadata": {},
     "output_type": "execute_result"
    }
   ],
   "source": [
    "data.tail()"
   ]
  },
  {
   "cell_type": "code",
   "execution_count": 15,
   "id": "ba822377",
   "metadata": {},
   "outputs": [
    {
     "data": {
      "text/html": [
       "<div>\n",
       "<style scoped>\n",
       "    .dataframe tbody tr th:only-of-type {\n",
       "        vertical-align: middle;\n",
       "    }\n",
       "\n",
       "    .dataframe tbody tr th {\n",
       "        vertical-align: top;\n",
       "    }\n",
       "\n",
       "    .dataframe thead th {\n",
       "        text-align: right;\n",
       "    }\n",
       "</style>\n",
       "<table border=\"1\" class=\"dataframe\">\n",
       "  <thead>\n",
       "    <tr style=\"text-align: right;\">\n",
       "      <th></th>\n",
       "      <th>dish_id_1</th>\n",
       "    </tr>\n",
       "  </thead>\n",
       "  <tbody>\n",
       "    <tr>\n",
       "      <th>count</th>\n",
       "      <td>209.000000</td>\n",
       "    </tr>\n",
       "    <tr>\n",
       "      <th>mean</th>\n",
       "      <td>155.200957</td>\n",
       "    </tr>\n",
       "    <tr>\n",
       "      <th>std</th>\n",
       "      <td>97.312037</td>\n",
       "    </tr>\n",
       "    <tr>\n",
       "      <th>min</th>\n",
       "      <td>0.000000</td>\n",
       "    </tr>\n",
       "    <tr>\n",
       "      <th>25%</th>\n",
       "      <td>85.000000</td>\n",
       "    </tr>\n",
       "    <tr>\n",
       "      <th>50%</th>\n",
       "      <td>126.000000</td>\n",
       "    </tr>\n",
       "    <tr>\n",
       "      <th>75%</th>\n",
       "      <td>210.000000</td>\n",
       "    </tr>\n",
       "    <tr>\n",
       "      <th>max</th>\n",
       "      <td>403.000000</td>\n",
       "    </tr>\n",
       "  </tbody>\n",
       "</table>\n",
       "</div>"
      ],
      "text/plain": [
       "        dish_id_1\n",
       "count  209.000000\n",
       "mean   155.200957\n",
       "std     97.312037\n",
       "min      0.000000\n",
       "25%     85.000000\n",
       "50%    126.000000\n",
       "75%    210.000000\n",
       "max    403.000000"
      ]
     },
     "execution_count": 15,
     "metadata": {},
     "output_type": "execute_result"
    }
   ],
   "source": [
    "data.describe()"
   ]
  },
  {
   "cell_type": "code",
   "execution_count": 16,
   "id": "5585b064",
   "metadata": {},
   "outputs": [
    {
     "data": {
      "text/plain": [
       "<AxesSubplot:>"
      ]
     },
     "execution_count": 16,
     "metadata": {},
     "output_type": "execute_result"
    },
    {
     "data": {
      "image/png": "[encoded data removed]",
      "text/plain": [
       "<Figure size 432x288 with 1 Axes>"
      ]
     },
     "metadata": {
      "needs_background": "light"
     },
     "output_type": "display_data"
    }
   ],
   "source": [
    "data.plot()"
   ]
  },
  {
   "cell_type": "code",
   "execution_count": 18,
   "id": "94f846ac",
   "metadata": {},
   "outputs": [
    {
     "data": {
      "image/png": "[encoded data removed]",
      "text/plain": [
       "<Figure size 360x360 with 1 Axes>"
      ]
     },
     "metadata": {
      "needs_background": "light"
     },
     "output_type": "display_data"
    }
   ],
   "source": [
    "fig, axs = plt.subplots(1, figsize = (5,5))\n",
    "plt1 = sns.boxplot(data['dish_id_1'])\n",
    "plt.tight_layout()"
   ]
  },
  {
   "cell_type": "code",
   "execution_count": 19,
   "id": "ac19229c",
   "metadata": {},
   "outputs": [
    {
     "data": {
      "image/png": "[encoded data removed]",
      "text/plain": [
       "<Figure size 288x288 with 1 Axes>"
      ]
     },
     "metadata": {
      "needs_background": "light"
     },
     "output_type": "display_data"
    }
   ],
   "source": [
    "sns.pairplot(data, x_vars=\"date\", y_vars=\"dish_id_1\", height=4, aspect=1, kind=\"scatter\")\n",
    "plt.show()"
   ]
  },
  {
   "cell_type": "code",
   "execution_count": 20,
   "id": "47c434f9",
   "metadata": {},
   "outputs": [
    {
     "data": {
      "text/plain": [
       "pandas.core.frame.DataFrame"
      ]
     },
     "execution_count": 20,
     "metadata": {},
     "output_type": "execute_result"
    }
   ],
   "source": [
    "type(data)"
   ]
  },
  {
   "cell_type": "code",
   "execution_count": 22,
   "id": "0b02ca66",
   "metadata": {},
   "outputs": [
    {
     "data": {
      "text/plain": [
       "<AxesSubplot:xlabel='date'>"
      ]
     },
     "execution_count": 22,
     "metadata": {},
     "output_type": "execute_result"
    },
    {
     "data": {
      "image/png": "[encoded data removed]",
      "text/plain": [
       "<Figure size 432x288 with 1 Axes>"
      ]
     },
     "metadata": {
      "needs_background": "light"
     },
     "output_type": "display_data"
    }
   ],
   "source": [
    "df = pd.read_csv(\"data.csv\",index_col=[1], parse_dates=True, squeeze=True)\n",
    "df.plot()"
   ]
  },
  {
   "cell_type": "code",
   "execution_count": 24,
   "id": "3b40fd82",
   "metadata": {},
   "outputs": [],
   "source": [
    "data_mean = data.rolling(window=5).mean()"
   ]
  },
  {
   "cell_type": "code",
   "execution_count": 25,
   "id": "44a7cece",
   "metadata": {},
   "outputs": [
    {
     "data": {
      "text/html": [
       "<div>\n",
       "<style scoped>\n",
       "    .dataframe tbody tr th:only-of-type {\n",
       "        vertical-align: middle;\n",
       "    }\n",
       "\n",
       "    .dataframe tbody tr th {\n",
       "        vertical-align: top;\n",
       "    }\n",
       "\n",
       "    .dataframe thead th {\n",
       "        text-align: right;\n",
       "    }\n",
       "</style>\n",
       "<table border=\"1\" class=\"dataframe\">\n",
       "  <thead>\n",
       "    <tr style=\"text-align: right;\">\n",
       "      <th></th>\n",
       "      <th>dish_id_1</th>\n",
       "    </tr>\n",
       "  </thead>\n",
       "  <tbody>\n",
       "    <tr>\n",
       "      <th>0</th>\n",
       "      <td>NaN</td>\n",
       "    </tr>\n",
       "    <tr>\n",
       "      <th>1</th>\n",
       "      <td>NaN</td>\n",
       "    </tr>\n",
       "    <tr>\n",
       "      <th>2</th>\n",
       "      <td>NaN</td>\n",
       "    </tr>\n",
       "    <tr>\n",
       "      <th>3</th>\n",
       "      <td>NaN</td>\n",
       "    </tr>\n",
       "    <tr>\n",
       "      <th>4</th>\n",
       "      <td>252.2</td>\n",
       "    </tr>\n",
       "    <tr>\n",
       "      <th>...</th>\n",
       "      <td>...</td>\n",
       "    </tr>\n",
       "    <tr>\n",
       "      <th>204</th>\n",
       "      <td>183.0</td>\n",
       "    </tr>\n",
       "    <tr>\n",
       "      <th>205</th>\n",
       "      <td>171.0</td>\n",
       "    </tr>\n",
       "    <tr>\n",
       "      <th>206</th>\n",
       "      <td>167.4</td>\n",
       "    </tr>\n",
       "    <tr>\n",
       "      <th>207</th>\n",
       "      <td>148.8</td>\n",
       "    </tr>\n",
       "    <tr>\n",
       "      <th>208</th>\n",
       "      <td>143.0</td>\n",
       "    </tr>\n",
       "  </tbody>\n",
       "</table>\n",
       "<p>209 rows × 1 columns</p>\n",
       "</div>"
      ],
      "text/plain": [
       "     dish_id_1\n",
       "0          NaN\n",
       "1          NaN\n",
       "2          NaN\n",
       "3          NaN\n",
       "4        252.2\n",
       "..         ...\n",
       "204      183.0\n",
       "205      171.0\n",
       "206      167.4\n",
       "207      148.8\n",
       "208      143.0\n",
       "\n",
       "[209 rows x 1 columns]"
      ]
     },
     "execution_count": 25,
     "metadata": {},
     "output_type": "execute_result"
    }
   ],
   "source": [
    "data_mean"
   ]
  },
  {
   "cell_type": "code",
   "execution_count": 27,
   "id": "7a1bd016",
   "metadata": {},
   "outputs": [
    {
     "data": {
      "text/plain": [
       "<AxesSubplot:>"
      ]
     },
     "execution_count": 27,
     "metadata": {},
     "output_type": "execute_result"
    },
    {
     "data": {
      "image/png": "[encoded data removed]",
      "text/plain": [
       "<Figure size 432x288 with 1 Axes>"
      ]
     },
     "metadata": {
      "needs_background": "light"
     },
     "output_type": "display_data"
    },
    {
     "data": {
      "image/png": "[encoded data removed]",
      "text/plain": [
       "<Figure size 432x288 with 1 Axes>"
      ]
     },
     "metadata": {
      "needs_background": "light"
     },
     "output_type": "display_data"
    }
   ],
   "source": [
    "data.plot()\n",
    "data_mean.plot()"
   ]
  },
  {
   "cell_type": "code",
   "execution_count": 28,
   "id": "bee6501f",
   "metadata": {},
   "outputs": [],
   "source": [
    "series = pd.DataFrame(series_value)"
   ]
  },
  {
   "cell_type": "code",
   "execution_count": 30,
   "id": "56b0fefc",
   "metadata": {},
   "outputs": [],
   "source": [
    "data_df = pd.concat([series,series.shift(1)], axis=1)"
   ]
  },
  {
   "cell_type": "code",
   "execution_count": 31,
   "id": "19c3b781",
   "metadata": {},
   "outputs": [
    {
     "data": {
      "text/html": [
       "<div>\n",
       "<style scoped>\n",
       "    .dataframe tbody tr th:only-of-type {\n",
       "        vertical-align: middle;\n",
       "    }\n",
       "\n",
       "    .dataframe tbody tr th {\n",
       "        vertical-align: top;\n",
       "    }\n",
       "\n",
       "    .dataframe thead th {\n",
       "        text-align: right;\n",
       "    }\n",
       "</style>\n",
       "<table border=\"1\" class=\"dataframe\">\n",
       "  <thead>\n",
       "    <tr style=\"text-align: right;\">\n",
       "      <th></th>\n",
       "      <th>0</th>\n",
       "      <th>1</th>\n",
       "      <th>0</th>\n",
       "      <th>1</th>\n",
       "    </tr>\n",
       "  </thead>\n",
       "  <tbody>\n",
       "    <tr>\n",
       "      <th>0</th>\n",
       "      <td>2019-01-01</td>\n",
       "      <td>120</td>\n",
       "      <td>NaN</td>\n",
       "      <td>NaN</td>\n",
       "    </tr>\n",
       "    <tr>\n",
       "      <th>1</th>\n",
       "      <td>2019-01-02</td>\n",
       "      <td>316</td>\n",
       "      <td>2019-01-01</td>\n",
       "      <td>120</td>\n",
       "    </tr>\n",
       "    <tr>\n",
       "      <th>2</th>\n",
       "      <td>2019-01-03</td>\n",
       "      <td>302</td>\n",
       "      <td>2019-01-02</td>\n",
       "      <td>316</td>\n",
       "    </tr>\n",
       "    <tr>\n",
       "      <th>3</th>\n",
       "      <td>2019-01-04</td>\n",
       "      <td>334</td>\n",
       "      <td>2019-01-03</td>\n",
       "      <td>302</td>\n",
       "    </tr>\n",
       "    <tr>\n",
       "      <th>4</th>\n",
       "      <td>2019-01-05</td>\n",
       "      <td>189</td>\n",
       "      <td>2019-01-04</td>\n",
       "      <td>334</td>\n",
       "    </tr>\n",
       "  </tbody>\n",
       "</table>\n",
       "</div>"
      ],
      "text/plain": [
       "            0    1           0    1\n",
       "0  2019-01-01  120         NaN  NaN\n",
       "1  2019-01-02  316  2019-01-01  120\n",
       "2  2019-01-03  302  2019-01-02  316\n",
       "3  2019-01-04  334  2019-01-03  302\n",
       "4  2019-01-05  189  2019-01-04  334"
      ]
     },
     "execution_count": 31,
     "metadata": {},
     "output_type": "execute_result"
    }
   ],
   "source": [
    "data_df.head()"
   ]
  },
  {
   "cell_type": "code",
   "execution_count": 34,
   "id": "11fa1120",
   "metadata": {},
   "outputs": [],
   "source": [
    "data_df.columns = [\"date1\", \"Actual_sales\", \"date2\", \"Forecast_sales\"]"
   ]
  },
  {
   "cell_type": "code",
   "execution_count": 35,
   "id": "4227b01f",
   "metadata": {},
   "outputs": [
    {
     "data": {
      "text/html": [
       "<div>\n",
       "<style scoped>\n",
       "    .dataframe tbody tr th:only-of-type {\n",
       "        vertical-align: middle;\n",
       "    }\n",
       "\n",
       "    .dataframe tbody tr th {\n",
       "        vertical-align: top;\n",
       "    }\n",
       "\n",
       "    .dataframe thead th {\n",
       "        text-align: right;\n",
       "    }\n",
       "</style>\n",
       "<table border=\"1\" class=\"dataframe\">\n",
       "  <thead>\n",
       "    <tr style=\"text-align: right;\">\n",
       "      <th></th>\n",
       "      <th>date1</th>\n",
       "      <th>Actual_sales</th>\n",
       "      <th>date2</th>\n",
       "      <th>Forecast_sales</th>\n",
       "    </tr>\n",
       "  </thead>\n",
       "  <tbody>\n",
       "    <tr>\n",
       "      <th>0</th>\n",
       "      <td>2019-01-01</td>\n",
       "      <td>120</td>\n",
       "      <td>NaN</td>\n",
       "      <td>NaN</td>\n",
       "    </tr>\n",
       "    <tr>\n",
       "      <th>1</th>\n",
       "      <td>2019-01-02</td>\n",
       "      <td>316</td>\n",
       "      <td>2019-01-01</td>\n",
       "      <td>120</td>\n",
       "    </tr>\n",
       "    <tr>\n",
       "      <th>2</th>\n",
       "      <td>2019-01-03</td>\n",
       "      <td>302</td>\n",
       "      <td>2019-01-02</td>\n",
       "      <td>316</td>\n",
       "    </tr>\n",
       "    <tr>\n",
       "      <th>3</th>\n",
       "      <td>2019-01-04</td>\n",
       "      <td>334</td>\n",
       "      <td>2019-01-03</td>\n",
       "      <td>302</td>\n",
       "    </tr>\n",
       "    <tr>\n",
       "      <th>4</th>\n",
       "      <td>2019-01-05</td>\n",
       "      <td>189</td>\n",
       "      <td>2019-01-04</td>\n",
       "      <td>334</td>\n",
       "    </tr>\n",
       "  </tbody>\n",
       "</table>\n",
       "</div>"
      ],
      "text/plain": [
       "        date1 Actual_sales       date2 Forecast_sales\n",
       "0  2019-01-01          120         NaN            NaN\n",
       "1  2019-01-02          316  2019-01-01            120\n",
       "2  2019-01-03          302  2019-01-02            316\n",
       "3  2019-01-04          334  2019-01-03            302\n",
       "4  2019-01-05          189  2019-01-04            334"
      ]
     },
     "execution_count": 35,
     "metadata": {},
     "output_type": "execute_result"
    }
   ],
   "source": [
    "data_df.head()"
   ]
  },
  {
   "cell_type": "code",
   "execution_count": 36,
   "id": "48dc9e40",
   "metadata": {},
   "outputs": [],
   "source": [
    "from sklearn.metrics import mean_squared_error"
   ]
  },
  {
   "cell_type": "code",
   "execution_count": 37,
   "id": "f04770ae",
   "metadata": {},
   "outputs": [],
   "source": [
    "data_test = data_df[1:]"
   ]
  },
  {
   "cell_type": "code",
   "execution_count": 38,
   "id": "519426e9",
   "metadata": {},
   "outputs": [
    {
     "data": {
      "text/html": [
       "<div>\n",
       "<style scoped>\n",
       "    .dataframe tbody tr th:only-of-type {\n",
       "        vertical-align: middle;\n",
       "    }\n",
       "\n",
       "    .dataframe tbody tr th {\n",
       "        vertical-align: top;\n",
       "    }\n",
       "\n",
       "    .dataframe thead th {\n",
       "        text-align: right;\n",
       "    }\n",
       "</style>\n",
       "<table border=\"1\" class=\"dataframe\">\n",
       "  <thead>\n",
       "    <tr style=\"text-align: right;\">\n",
       "      <th></th>\n",
       "      <th>date1</th>\n",
       "      <th>Actual_sales</th>\n",
       "      <th>date2</th>\n",
       "      <th>Forecast_sales</th>\n",
       "    </tr>\n",
       "  </thead>\n",
       "  <tbody>\n",
       "    <tr>\n",
       "      <th>1</th>\n",
       "      <td>2019-01-02</td>\n",
       "      <td>316</td>\n",
       "      <td>2019-01-01</td>\n",
       "      <td>120</td>\n",
       "    </tr>\n",
       "    <tr>\n",
       "      <th>2</th>\n",
       "      <td>2019-01-03</td>\n",
       "      <td>302</td>\n",
       "      <td>2019-01-02</td>\n",
       "      <td>316</td>\n",
       "    </tr>\n",
       "    <tr>\n",
       "      <th>3</th>\n",
       "      <td>2019-01-04</td>\n",
       "      <td>334</td>\n",
       "      <td>2019-01-03</td>\n",
       "      <td>302</td>\n",
       "    </tr>\n",
       "    <tr>\n",
       "      <th>4</th>\n",
       "      <td>2019-01-05</td>\n",
       "      <td>189</td>\n",
       "      <td>2019-01-04</td>\n",
       "      <td>334</td>\n",
       "    </tr>\n",
       "    <tr>\n",
       "      <th>5</th>\n",
       "      <td>2019-01-06</td>\n",
       "      <td>109</td>\n",
       "      <td>2019-01-05</td>\n",
       "      <td>189</td>\n",
       "    </tr>\n",
       "  </tbody>\n",
       "</table>\n",
       "</div>"
      ],
      "text/plain": [
       "        date1 Actual_sales       date2 Forecast_sales\n",
       "1  2019-01-02          316  2019-01-01            120\n",
       "2  2019-01-03          302  2019-01-02            316\n",
       "3  2019-01-04          334  2019-01-03            302\n",
       "4  2019-01-05          189  2019-01-04            334\n",
       "5  2019-01-06          109  2019-01-05            189"
      ]
     },
     "execution_count": 38,
     "metadata": {},
     "output_type": "execute_result"
    }
   ],
   "source": [
    "data_test.head()"
   ]
  },
  {
   "cell_type": "code",
   "execution_count": 39,
   "id": "983b20d4",
   "metadata": {},
   "outputs": [],
   "source": [
    "data_error = mean_squared_error(data_test.Actual_sales, data_test.Forecast_sales)"
   ]
  },
  {
   "cell_type": "code",
   "execution_count": 40,
   "id": "bbc64a5f",
   "metadata": {},
   "outputs": [
    {
     "data": {
      "text/plain": [
       "5870.961538461538"
      ]
     },
     "execution_count": 40,
     "metadata": {},
     "output_type": "execute_result"
    }
   ],
   "source": [
    "data_error"
   ]
  },
  {
   "cell_type": "code",
   "execution_count": 41,
   "id": "6926d252",
   "metadata": {},
   "outputs": [
    {
     "data": {
      "text/plain": [
       "76.62220003668348"
      ]
     },
     "execution_count": 41,
     "metadata": {},
     "output_type": "execute_result"
    }
   ],
   "source": [
    "np.sqrt(data_error)"
   ]
  },
  {
   "cell_type": "markdown",
   "id": "a3de3cc4",
   "metadata": {},
   "source": [
    "ARIMA - Autoregressive (p) Integrated (d) Moving Average (q)"
   ]
  },
  {
   "cell_type": "code",
   "execution_count": 42,
   "id": "c01606a2",
   "metadata": {},
   "outputs": [],
   "source": [
    "from statsmodels.graphics.tsaplots import plot_acf, plot_pacf"
   ]
  },
  {
   "cell_type": "code",
   "execution_count": 44,
   "id": "309a0506",
   "metadata": {},
   "outputs": [
    {
     "data": {
      "image/png": "[encoded data removed]",
      "text/plain": [
       "<Figure size 432x288 with 1 Axes>"
      ]
     },
     "execution_count": 44,
     "metadata": {},
     "output_type": "execute_result"
    },
    {
     "data": {
      "image/png": "[encoded data removed]",
      "text/plain": [
       "<Figure size 432x288 with 1 Axes>"
      ]
     },
     "metadata": {
      "needs_background": "light"
     },
     "output_type": "display_data"
    }
   ],
   "source": [
    "#Plot_acf is to identify parameter Q\n",
    "# ARIMA(p,d,q)\n",
    "\n",
    "plot_acf(data.dish_id_1) # To identify value of q"
   ]
  },
  {
   "cell_type": "code",
   "execution_count": 45,
   "id": "8b6ea93b",
   "metadata": {},
   "outputs": [
    {
     "data": {
      "image/png": "[encoded data removed]",
      "text/plain": [
       "<Figure size 432x288 with 1 Axes>"
      ]
     },
     "execution_count": 45,
     "metadata": {},
     "output_type": "execute_result"
    },
    {
     "data": {
      "image/png": "[encoded data removed]",
      "text/plain": [
       "<Figure size 432x288 with 1 Axes>"
      ]
     },
     "metadata": {
      "needs_background": "light"
     },
     "output_type": "display_data"
    }
   ],
   "source": [
    "#9,12,16\n",
    "\n",
    "plot_pacf(data.dish_id_1) # To identify value of p"
   ]
  },
  {
   "cell_type": "code",
   "execution_count": 46,
   "id": "506856c1",
   "metadata": {},
   "outputs": [
    {
     "data": {
      "text/plain": [
       "418"
      ]
     },
     "execution_count": 46,
     "metadata": {},
     "output_type": "execute_result"
    }
   ],
   "source": [
    "# p = 2,3    d=0    q= 9,12\n",
    "\n",
    "data.size"
   ]
  },
  {
   "cell_type": "code",
   "execution_count": 47,
   "id": "842efe98",
   "metadata": {},
   "outputs": [],
   "source": [
    "data_train = data[0:160]\n",
    "data_test = data[160:209]"
   ]
  },
  {
   "cell_type": "code",
   "execution_count": 48,
   "id": "09ed4966",
   "metadata": {},
   "outputs": [
    {
     "data": {
      "text/plain": [
       "320"
      ]
     },
     "execution_count": 48,
     "metadata": {},
     "output_type": "execute_result"
    }
   ],
   "source": [
    "data_train.size"
   ]
  },
  {
   "cell_type": "code",
   "execution_count": 49,
   "id": "a602d984",
   "metadata": {},
   "outputs": [
    {
     "data": {
      "text/plain": [
       "98"
      ]
     },
     "execution_count": 49,
     "metadata": {},
     "output_type": "execute_result"
    }
   ],
   "source": [
    "data_test.size"
   ]
  },
  {
   "cell_type": "code",
   "execution_count": 50,
   "id": "6ce1082e",
   "metadata": {},
   "outputs": [],
   "source": [
    "from statsmodels.tsa.arima_model import ARIMA"
   ]
  },
  {
   "cell_type": "code",
   "execution_count": 52,
   "id": "c7c6843f",
   "metadata": {},
   "outputs": [],
   "source": [
    "data_model = ARIMA(data_train.dish_id_1, order=(2,0,9))"
   ]
  },
  {
   "cell_type": "code",
   "execution_count": 53,
   "id": "dc387733",
   "metadata": {},
   "outputs": [
    {
     "name": "stderr",
     "output_type": "stream",
     "text": [
      "C:\\Users\\nikhi\\anaconda3\\lib\\site-packages\\statsmodels\\tsa\\tsatools.py:701: RuntimeWarning: overflow encountered in exp\n",
      "  newparams = ((1-np.exp(-params))/(1+np.exp(-params))).copy()\n",
      "C:\\Users\\nikhi\\anaconda3\\lib\\site-packages\\statsmodels\\tsa\\tsatools.py:701: RuntimeWarning: invalid value encountered in true_divide\n",
      "  newparams = ((1-np.exp(-params))/(1+np.exp(-params))).copy()\n",
      "C:\\Users\\nikhi\\anaconda3\\lib\\site-packages\\statsmodels\\tsa\\tsatools.py:702: RuntimeWarning: overflow encountered in exp\n",
      "  tmp = ((1-np.exp(-params))/(1+np.exp(-params))).copy()\n",
      "C:\\Users\\nikhi\\anaconda3\\lib\\site-packages\\statsmodels\\tsa\\tsatools.py:702: RuntimeWarning: invalid value encountered in true_divide\n",
      "  tmp = ((1-np.exp(-params))/(1+np.exp(-params))).copy()\n",
      "C:\\Users\\nikhi\\anaconda3\\lib\\site-packages\\statsmodels\\base\\model.py:547: HessianInversionWarning: Inverting hessian failed, no bse or cov_params available\n",
      "  warnings.warn('Inverting hessian failed, no bse or cov_params '\n",
      "C:\\Users\\nikhi\\anaconda3\\lib\\site-packages\\statsmodels\\base\\model.py:566: ConvergenceWarning: Maximum Likelihood optimization failed to converge. Check mle_retvals\n",
      "  warnings.warn(\"Maximum Likelihood optimization failed to \"\n"
     ]
    }
   ],
   "source": [
    "data_model_fit = data_model.fit()"
   ]
  },
  {
   "cell_type": "code",
   "execution_count": 54,
   "id": "4296dd17",
   "metadata": {},
   "outputs": [
    {
     "data": {
      "text/plain": [
       "1836.9124308589526"
      ]
     },
     "execution_count": 54,
     "metadata": {},
     "output_type": "execute_result"
    }
   ],
   "source": [
    "data_model_fit.aic"
   ]
  },
  {
   "cell_type": "code",
   "execution_count": 56,
   "id": "5f794dad",
   "metadata": {},
   "outputs": [],
   "source": [
    "data_forecast = data_model_fit.forecast(steps=49)[1]"
   ]
  },
  {
   "cell_type": "code",
   "execution_count": 57,
   "id": "96ff3fc4",
   "metadata": {},
   "outputs": [
    {
     "data": {
      "text/plain": [
       "array([ 68.22469931,  96.78673026, 104.97794923, 112.72453066,\n",
       "       120.85127413, 131.80107987, 137.15667921, 146.49804176,\n",
       "       165.72942012, 178.97043708, 188.41333307, 195.28523318,\n",
       "       200.35035099, 204.11559676, 206.93101603, 209.04493629,\n",
       "       210.63684393, 211.83819636, 212.74619726, 213.43322435,\n",
       "       213.95344711, 214.34756163, 214.64622827, 214.87259497,\n",
       "       215.0441652 , 215.17418959, 215.27270765, 215.34733056,\n",
       "       215.40383099, 215.44658834, 215.47892561, 215.50336437,\n",
       "       215.52181801, 215.53573832, 215.54622669, 215.55411847,\n",
       "       215.56004711, 215.56449276, 215.56781923, 215.57030205,\n",
       "       215.57214977, 215.57352014, 215.57453239, 215.57527656,\n",
       "       215.57582056, 215.57621557, 215.57650007, 215.57670298,\n",
       "       215.57684598])"
      ]
     },
     "execution_count": 57,
     "metadata": {},
     "output_type": "execute_result"
    }
   ],
   "source": [
    "data_forecast"
   ]
  },
  {
   "cell_type": "code",
   "execution_count": 58,
   "id": "bcbf8125",
   "metadata": {},
   "outputs": [
    {
     "data": {
      "text/html": [
       "<div>\n",
       "<style scoped>\n",
       "    .dataframe tbody tr th:only-of-type {\n",
       "        vertical-align: middle;\n",
       "    }\n",
       "\n",
       "    .dataframe tbody tr th {\n",
       "        vertical-align: top;\n",
       "    }\n",
       "\n",
       "    .dataframe thead th {\n",
       "        text-align: right;\n",
       "    }\n",
       "</style>\n",
       "<table border=\"1\" class=\"dataframe\">\n",
       "  <thead>\n",
       "    <tr style=\"text-align: right;\">\n",
       "      <th></th>\n",
       "      <th>date</th>\n",
       "      <th>dish_id_1</th>\n",
       "    </tr>\n",
       "  </thead>\n",
       "  <tbody>\n",
       "    <tr>\n",
       "      <th>160</th>\n",
       "      <td>2019-06-13</td>\n",
       "      <td>75</td>\n",
       "    </tr>\n",
       "    <tr>\n",
       "      <th>161</th>\n",
       "      <td>2019-06-14</td>\n",
       "      <td>87</td>\n",
       "    </tr>\n",
       "    <tr>\n",
       "      <th>162</th>\n",
       "      <td>2019-06-15</td>\n",
       "      <td>69</td>\n",
       "    </tr>\n",
       "    <tr>\n",
       "      <th>163</th>\n",
       "      <td>2019-06-16</td>\n",
       "      <td>34</td>\n",
       "    </tr>\n",
       "    <tr>\n",
       "      <th>164</th>\n",
       "      <td>2019-06-17</td>\n",
       "      <td>173</td>\n",
       "    </tr>\n",
       "    <tr>\n",
       "      <th>165</th>\n",
       "      <td>2019-06-18</td>\n",
       "      <td>162</td>\n",
       "    </tr>\n",
       "    <tr>\n",
       "      <th>166</th>\n",
       "      <td>2019-06-19</td>\n",
       "      <td>110</td>\n",
       "    </tr>\n",
       "    <tr>\n",
       "      <th>167</th>\n",
       "      <td>2019-06-20</td>\n",
       "      <td>109</td>\n",
       "    </tr>\n",
       "    <tr>\n",
       "      <th>168</th>\n",
       "      <td>2019-06-21</td>\n",
       "      <td>127</td>\n",
       "    </tr>\n",
       "    <tr>\n",
       "      <th>169</th>\n",
       "      <td>2019-06-22</td>\n",
       "      <td>72</td>\n",
       "    </tr>\n",
       "    <tr>\n",
       "      <th>170</th>\n",
       "      <td>2019-06-23</td>\n",
       "      <td>18</td>\n",
       "    </tr>\n",
       "    <tr>\n",
       "      <th>171</th>\n",
       "      <td>2019-06-24</td>\n",
       "      <td>151</td>\n",
       "    </tr>\n",
       "    <tr>\n",
       "      <th>172</th>\n",
       "      <td>2019-06-25</td>\n",
       "      <td>106</td>\n",
       "    </tr>\n",
       "    <tr>\n",
       "      <th>173</th>\n",
       "      <td>2019-06-26</td>\n",
       "      <td>124</td>\n",
       "    </tr>\n",
       "    <tr>\n",
       "      <th>174</th>\n",
       "      <td>2019-06-27</td>\n",
       "      <td>111</td>\n",
       "    </tr>\n",
       "    <tr>\n",
       "      <th>175</th>\n",
       "      <td>2019-06-28</td>\n",
       "      <td>93</td>\n",
       "    </tr>\n",
       "    <tr>\n",
       "      <th>176</th>\n",
       "      <td>2019-06-29</td>\n",
       "      <td>55</td>\n",
       "    </tr>\n",
       "    <tr>\n",
       "      <th>177</th>\n",
       "      <td>2019-06-30</td>\n",
       "      <td>32</td>\n",
       "    </tr>\n",
       "    <tr>\n",
       "      <th>178</th>\n",
       "      <td>2019-07-01</td>\n",
       "      <td>97</td>\n",
       "    </tr>\n",
       "    <tr>\n",
       "      <th>179</th>\n",
       "      <td>2019-07-02</td>\n",
       "      <td>100</td>\n",
       "    </tr>\n",
       "    <tr>\n",
       "      <th>180</th>\n",
       "      <td>2019-07-03</td>\n",
       "      <td>91</td>\n",
       "    </tr>\n",
       "    <tr>\n",
       "      <th>181</th>\n",
       "      <td>2019-07-04</td>\n",
       "      <td>139</td>\n",
       "    </tr>\n",
       "    <tr>\n",
       "      <th>182</th>\n",
       "      <td>2019-07-05</td>\n",
       "      <td>195</td>\n",
       "    </tr>\n",
       "    <tr>\n",
       "      <th>183</th>\n",
       "      <td>2019-07-06</td>\n",
       "      <td>56</td>\n",
       "    </tr>\n",
       "    <tr>\n",
       "      <th>184</th>\n",
       "      <td>2019-07-07</td>\n",
       "      <td>42</td>\n",
       "    </tr>\n",
       "    <tr>\n",
       "      <th>185</th>\n",
       "      <td>2019-07-08</td>\n",
       "      <td>135</td>\n",
       "    </tr>\n",
       "    <tr>\n",
       "      <th>186</th>\n",
       "      <td>2019-07-09</td>\n",
       "      <td>123</td>\n",
       "    </tr>\n",
       "    <tr>\n",
       "      <th>187</th>\n",
       "      <td>2019-07-10</td>\n",
       "      <td>136</td>\n",
       "    </tr>\n",
       "    <tr>\n",
       "      <th>188</th>\n",
       "      <td>2019-07-11</td>\n",
       "      <td>142</td>\n",
       "    </tr>\n",
       "    <tr>\n",
       "      <th>189</th>\n",
       "      <td>2019-07-12</td>\n",
       "      <td>139</td>\n",
       "    </tr>\n",
       "    <tr>\n",
       "      <th>190</th>\n",
       "      <td>2019-07-13</td>\n",
       "      <td>82</td>\n",
       "    </tr>\n",
       "    <tr>\n",
       "      <th>191</th>\n",
       "      <td>2019-07-14</td>\n",
       "      <td>35</td>\n",
       "    </tr>\n",
       "    <tr>\n",
       "      <th>192</th>\n",
       "      <td>2019-07-15</td>\n",
       "      <td>168</td>\n",
       "    </tr>\n",
       "    <tr>\n",
       "      <th>193</th>\n",
       "      <td>2019-07-16</td>\n",
       "      <td>135</td>\n",
       "    </tr>\n",
       "    <tr>\n",
       "      <th>194</th>\n",
       "      <td>2019-07-17</td>\n",
       "      <td>213</td>\n",
       "    </tr>\n",
       "    <tr>\n",
       "      <th>195</th>\n",
       "      <td>2019-07-18</td>\n",
       "      <td>317</td>\n",
       "    </tr>\n",
       "    <tr>\n",
       "      <th>196</th>\n",
       "      <td>2019-07-19</td>\n",
       "      <td>158</td>\n",
       "    </tr>\n",
       "    <tr>\n",
       "      <th>197</th>\n",
       "      <td>2019-07-20</td>\n",
       "      <td>175</td>\n",
       "    </tr>\n",
       "    <tr>\n",
       "      <th>198</th>\n",
       "      <td>2019-07-21</td>\n",
       "      <td>114</td>\n",
       "    </tr>\n",
       "    <tr>\n",
       "      <th>199</th>\n",
       "      <td>2019-07-22</td>\n",
       "      <td>148</td>\n",
       "    </tr>\n",
       "    <tr>\n",
       "      <th>200</th>\n",
       "      <td>2019-07-23</td>\n",
       "      <td>133</td>\n",
       "    </tr>\n",
       "    <tr>\n",
       "      <th>201</th>\n",
       "      <td>2019-07-24</td>\n",
       "      <td>178</td>\n",
       "    </tr>\n",
       "    <tr>\n",
       "      <th>202</th>\n",
       "      <td>2019-07-25</td>\n",
       "      <td>239</td>\n",
       "    </tr>\n",
       "    <tr>\n",
       "      <th>203</th>\n",
       "      <td>2019-07-26</td>\n",
       "      <td>207</td>\n",
       "    </tr>\n",
       "    <tr>\n",
       "      <th>204</th>\n",
       "      <td>2019-07-27</td>\n",
       "      <td>158</td>\n",
       "    </tr>\n",
       "    <tr>\n",
       "      <th>205</th>\n",
       "      <td>2019-07-28</td>\n",
       "      <td>73</td>\n",
       "    </tr>\n",
       "    <tr>\n",
       "      <th>206</th>\n",
       "      <td>2019-07-29</td>\n",
       "      <td>160</td>\n",
       "    </tr>\n",
       "    <tr>\n",
       "      <th>207</th>\n",
       "      <td>2019-07-30</td>\n",
       "      <td>146</td>\n",
       "    </tr>\n",
       "    <tr>\n",
       "      <th>208</th>\n",
       "      <td>2019-07-31</td>\n",
       "      <td>178</td>\n",
       "    </tr>\n",
       "  </tbody>\n",
       "</table>\n",
       "</div>"
      ],
      "text/plain": [
       "           date  dish_id_1\n",
       "160  2019-06-13         75\n",
       "161  2019-06-14         87\n",
       "162  2019-06-15         69\n",
       "163  2019-06-16         34\n",
       "164  2019-06-17        173\n",
       "165  2019-06-18        162\n",
       "166  2019-06-19        110\n",
       "167  2019-06-20        109\n",
       "168  2019-06-21        127\n",
       "169  2019-06-22         72\n",
       "170  2019-06-23         18\n",
       "171  2019-06-24        151\n",
       "172  2019-06-25        106\n",
       "173  2019-06-26        124\n",
       "174  2019-06-27        111\n",
       "175  2019-06-28         93\n",
       "176  2019-06-29         55\n",
       "177  2019-06-30         32\n",
       "178  2019-07-01         97\n",
       "179  2019-07-02        100\n",
       "180  2019-07-03         91\n",
       "181  2019-07-04        139\n",
       "182  2019-07-05        195\n",
       "183  2019-07-06         56\n",
       "184  2019-07-07         42\n",
       "185  2019-07-08        135\n",
       "186  2019-07-09        123\n",
       "187  2019-07-10        136\n",
       "188  2019-07-11        142\n",
       "189  2019-07-12        139\n",
       "190  2019-07-13         82\n",
       "191  2019-07-14         35\n",
       "192  2019-07-15        168\n",
       "193  2019-07-16        135\n",
       "194  2019-07-17        213\n",
       "195  2019-07-18        317\n",
       "196  2019-07-19        158\n",
       "197  2019-07-20        175\n",
       "198  2019-07-21        114\n",
       "199  2019-07-22        148\n",
       "200  2019-07-23        133\n",
       "201  2019-07-24        178\n",
       "202  2019-07-25        239\n",
       "203  2019-07-26        207\n",
       "204  2019-07-27        158\n",
       "205  2019-07-28         73\n",
       "206  2019-07-29        160\n",
       "207  2019-07-30        146\n",
       "208  2019-07-31        178"
      ]
     },
     "execution_count": 58,
     "metadata": {},
     "output_type": "execute_result"
    }
   ],
   "source": [
    "data_test"
   ]
  },
  {
   "cell_type": "code",
   "execution_count": 62,
   "id": "3b8c597a",
   "metadata": {},
   "outputs": [],
   "source": [
    "data_train2 = data[0:160]\n",
    "data_test2 = data[160:216]"
   ]
  },
  {
   "cell_type": "code",
   "execution_count": 63,
   "id": "2f9f8412",
   "metadata": {},
   "outputs": [
    {
     "data": {
      "text/plain": [
       "320"
      ]
     },
     "execution_count": 63,
     "metadata": {},
     "output_type": "execute_result"
    }
   ],
   "source": [
    "data_train2.size"
   ]
  },
  {
   "cell_type": "code",
   "execution_count": 64,
   "id": "d84ac2a5",
   "metadata": {},
   "outputs": [
    {
     "data": {
      "text/plain": [
       "98"
      ]
     },
     "execution_count": 64,
     "metadata": {},
     "output_type": "execute_result"
    }
   ],
   "source": [
    "data_test2.size"
   ]
  },
  {
   "cell_type": "code",
   "execution_count": 65,
   "id": "b86fef04",
   "metadata": {},
   "outputs": [],
   "source": [
    "from statsmodels.tsa.arima_model import ARIMA"
   ]
  },
  {
   "cell_type": "code",
   "execution_count": 67,
   "id": "b1595e41",
   "metadata": {},
   "outputs": [],
   "source": [
    "data_model = ARIMA(data_train2.dish_id_1, order=(2,0,9))"
   ]
  },
  {
   "cell_type": "code",
   "execution_count": 68,
   "id": "ccefe187",
   "metadata": {},
   "outputs": [
    {
     "name": "stderr",
     "output_type": "stream",
     "text": [
      "C:\\Users\\nikhi\\anaconda3\\lib\\site-packages\\statsmodels\\tsa\\tsatools.py:701: RuntimeWarning: overflow encountered in exp\n",
      "  newparams = ((1-np.exp(-params))/(1+np.exp(-params))).copy()\n",
      "C:\\Users\\nikhi\\anaconda3\\lib\\site-packages\\statsmodels\\tsa\\tsatools.py:701: RuntimeWarning: invalid value encountered in true_divide\n",
      "  newparams = ((1-np.exp(-params))/(1+np.exp(-params))).copy()\n",
      "C:\\Users\\nikhi\\anaconda3\\lib\\site-packages\\statsmodels\\tsa\\tsatools.py:702: RuntimeWarning: overflow encountered in exp\n",
      "  tmp = ((1-np.exp(-params))/(1+np.exp(-params))).copy()\n",
      "C:\\Users\\nikhi\\anaconda3\\lib\\site-packages\\statsmodels\\tsa\\tsatools.py:702: RuntimeWarning: invalid value encountered in true_divide\n",
      "  tmp = ((1-np.exp(-params))/(1+np.exp(-params))).copy()\n",
      "C:\\Users\\nikhi\\anaconda3\\lib\\site-packages\\statsmodels\\base\\model.py:547: HessianInversionWarning: Inverting hessian failed, no bse or cov_params available\n",
      "  warnings.warn('Inverting hessian failed, no bse or cov_params '\n",
      "C:\\Users\\nikhi\\anaconda3\\lib\\site-packages\\statsmodels\\base\\model.py:566: ConvergenceWarning: Maximum Likelihood optimization failed to converge. Check mle_retvals\n",
      "  warnings.warn(\"Maximum Likelihood optimization failed to \"\n"
     ]
    }
   ],
   "source": [
    "data_model_fit = data_model.fit()"
   ]
  },
  {
   "cell_type": "code",
   "execution_count": 69,
   "id": "f4eae1e8",
   "metadata": {},
   "outputs": [
    {
     "data": {
      "text/plain": [
       "1836.9124308589526"
      ]
     },
     "execution_count": 69,
     "metadata": {},
     "output_type": "execute_result"
    }
   ],
   "source": [
    "data_model_fit.aic"
   ]
  },
  {
   "cell_type": "code",
   "execution_count": 70,
   "id": "6c3186eb",
   "metadata": {},
   "outputs": [],
   "source": [
    "data_forecast = data_model_fit.forecast(steps=49)[1]"
   ]
  },
  {
   "cell_type": "code",
   "execution_count": 71,
   "id": "5f60bcdd",
   "metadata": {},
   "outputs": [
    {
     "data": {
      "text/plain": [
       "array([ 68.22469931,  96.78673026, 104.97794923, 112.72453066,\n",
       "       120.85127413, 131.80107987, 137.15667921, 146.49804176,\n",
       "       165.72942012, 178.97043708, 188.41333307, 195.28523318,\n",
       "       200.35035099, 204.11559676, 206.93101603, 209.04493629,\n",
       "       210.63684393, 211.83819636, 212.74619726, 213.43322435,\n",
       "       213.95344711, 214.34756163, 214.64622827, 214.87259497,\n",
       "       215.0441652 , 215.17418959, 215.27270765, 215.34733056,\n",
       "       215.40383099, 215.44658834, 215.47892561, 215.50336437,\n",
       "       215.52181801, 215.53573832, 215.54622669, 215.55411847,\n",
       "       215.56004711, 215.56449276, 215.56781923, 215.57030205,\n",
       "       215.57214977, 215.57352014, 215.57453239, 215.57527656,\n",
       "       215.57582056, 215.57621557, 215.57650007, 215.57670298,\n",
       "       215.57684598])"
      ]
     },
     "execution_count": 71,
     "metadata": {},
     "output_type": "execute_result"
    }
   ],
   "source": [
    "data_forecast"
   ]
  },
  {
   "cell_type": "code",
   "execution_count": 72,
   "id": "8d80491a",
   "metadata": {},
   "outputs": [
    {
     "data": {
      "text/html": [
       "<div>\n",
       "<style scoped>\n",
       "    .dataframe tbody tr th:only-of-type {\n",
       "        vertical-align: middle;\n",
       "    }\n",
       "\n",
       "    .dataframe tbody tr th {\n",
       "        vertical-align: top;\n",
       "    }\n",
       "\n",
       "    .dataframe thead th {\n",
       "        text-align: right;\n",
       "    }\n",
       "</style>\n",
       "<table border=\"1\" class=\"dataframe\">\n",
       "  <thead>\n",
       "    <tr style=\"text-align: right;\">\n",
       "      <th></th>\n",
       "      <th>date</th>\n",
       "      <th>dish_id_1</th>\n",
       "    </tr>\n",
       "  </thead>\n",
       "  <tbody>\n",
       "    <tr>\n",
       "      <th>160</th>\n",
       "      <td>2019-06-13</td>\n",
       "      <td>75</td>\n",
       "    </tr>\n",
       "    <tr>\n",
       "      <th>161</th>\n",
       "      <td>2019-06-14</td>\n",
       "      <td>87</td>\n",
       "    </tr>\n",
       "    <tr>\n",
       "      <th>162</th>\n",
       "      <td>2019-06-15</td>\n",
       "      <td>69</td>\n",
       "    </tr>\n",
       "    <tr>\n",
       "      <th>163</th>\n",
       "      <td>2019-06-16</td>\n",
       "      <td>34</td>\n",
       "    </tr>\n",
       "    <tr>\n",
       "      <th>164</th>\n",
       "      <td>2019-06-17</td>\n",
       "      <td>173</td>\n",
       "    </tr>\n",
       "    <tr>\n",
       "      <th>165</th>\n",
       "      <td>2019-06-18</td>\n",
       "      <td>162</td>\n",
       "    </tr>\n",
       "    <tr>\n",
       "      <th>166</th>\n",
       "      <td>2019-06-19</td>\n",
       "      <td>110</td>\n",
       "    </tr>\n",
       "    <tr>\n",
       "      <th>167</th>\n",
       "      <td>2019-06-20</td>\n",
       "      <td>109</td>\n",
       "    </tr>\n",
       "    <tr>\n",
       "      <th>168</th>\n",
       "      <td>2019-06-21</td>\n",
       "      <td>127</td>\n",
       "    </tr>\n",
       "    <tr>\n",
       "      <th>169</th>\n",
       "      <td>2019-06-22</td>\n",
       "      <td>72</td>\n",
       "    </tr>\n",
       "    <tr>\n",
       "      <th>170</th>\n",
       "      <td>2019-06-23</td>\n",
       "      <td>18</td>\n",
       "    </tr>\n",
       "    <tr>\n",
       "      <th>171</th>\n",
       "      <td>2019-06-24</td>\n",
       "      <td>151</td>\n",
       "    </tr>\n",
       "    <tr>\n",
       "      <th>172</th>\n",
       "      <td>2019-06-25</td>\n",
       "      <td>106</td>\n",
       "    </tr>\n",
       "    <tr>\n",
       "      <th>173</th>\n",
       "      <td>2019-06-26</td>\n",
       "      <td>124</td>\n",
       "    </tr>\n",
       "    <tr>\n",
       "      <th>174</th>\n",
       "      <td>2019-06-27</td>\n",
       "      <td>111</td>\n",
       "    </tr>\n",
       "    <tr>\n",
       "      <th>175</th>\n",
       "      <td>2019-06-28</td>\n",
       "      <td>93</td>\n",
       "    </tr>\n",
       "    <tr>\n",
       "      <th>176</th>\n",
       "      <td>2019-06-29</td>\n",
       "      <td>55</td>\n",
       "    </tr>\n",
       "    <tr>\n",
       "      <th>177</th>\n",
       "      <td>2019-06-30</td>\n",
       "      <td>32</td>\n",
       "    </tr>\n",
       "    <tr>\n",
       "      <th>178</th>\n",
       "      <td>2019-07-01</td>\n",
       "      <td>97</td>\n",
       "    </tr>\n",
       "    <tr>\n",
       "      <th>179</th>\n",
       "      <td>2019-07-02</td>\n",
       "      <td>100</td>\n",
       "    </tr>\n",
       "    <tr>\n",
       "      <th>180</th>\n",
       "      <td>2019-07-03</td>\n",
       "      <td>91</td>\n",
       "    </tr>\n",
       "    <tr>\n",
       "      <th>181</th>\n",
       "      <td>2019-07-04</td>\n",
       "      <td>139</td>\n",
       "    </tr>\n",
       "    <tr>\n",
       "      <th>182</th>\n",
       "      <td>2019-07-05</td>\n",
       "      <td>195</td>\n",
       "    </tr>\n",
       "    <tr>\n",
       "      <th>183</th>\n",
       "      <td>2019-07-06</td>\n",
       "      <td>56</td>\n",
       "    </tr>\n",
       "    <tr>\n",
       "      <th>184</th>\n",
       "      <td>2019-07-07</td>\n",
       "      <td>42</td>\n",
       "    </tr>\n",
       "    <tr>\n",
       "      <th>185</th>\n",
       "      <td>2019-07-08</td>\n",
       "      <td>135</td>\n",
       "    </tr>\n",
       "    <tr>\n",
       "      <th>186</th>\n",
       "      <td>2019-07-09</td>\n",
       "      <td>123</td>\n",
       "    </tr>\n",
       "    <tr>\n",
       "      <th>187</th>\n",
       "      <td>2019-07-10</td>\n",
       "      <td>136</td>\n",
       "    </tr>\n",
       "    <tr>\n",
       "      <th>188</th>\n",
       "      <td>2019-07-11</td>\n",
       "      <td>142</td>\n",
       "    </tr>\n",
       "    <tr>\n",
       "      <th>189</th>\n",
       "      <td>2019-07-12</td>\n",
       "      <td>139</td>\n",
       "    </tr>\n",
       "    <tr>\n",
       "      <th>190</th>\n",
       "      <td>2019-07-13</td>\n",
       "      <td>82</td>\n",
       "    </tr>\n",
       "    <tr>\n",
       "      <th>191</th>\n",
       "      <td>2019-07-14</td>\n",
       "      <td>35</td>\n",
       "    </tr>\n",
       "    <tr>\n",
       "      <th>192</th>\n",
       "      <td>2019-07-15</td>\n",
       "      <td>168</td>\n",
       "    </tr>\n",
       "    <tr>\n",
       "      <th>193</th>\n",
       "      <td>2019-07-16</td>\n",
       "      <td>135</td>\n",
       "    </tr>\n",
       "    <tr>\n",
       "      <th>194</th>\n",
       "      <td>2019-07-17</td>\n",
       "      <td>213</td>\n",
       "    </tr>\n",
       "    <tr>\n",
       "      <th>195</th>\n",
       "      <td>2019-07-18</td>\n",
       "      <td>317</td>\n",
       "    </tr>\n",
       "    <tr>\n",
       "      <th>196</th>\n",
       "      <td>2019-07-19</td>\n",
       "      <td>158</td>\n",
       "    </tr>\n",
       "    <tr>\n",
       "      <th>197</th>\n",
       "      <td>2019-07-20</td>\n",
       "      <td>175</td>\n",
       "    </tr>\n",
       "    <tr>\n",
       "      <th>198</th>\n",
       "      <td>2019-07-21</td>\n",
       "      <td>114</td>\n",
       "    </tr>\n",
       "    <tr>\n",
       "      <th>199</th>\n",
       "      <td>2019-07-22</td>\n",
       "      <td>148</td>\n",
       "    </tr>\n",
       "    <tr>\n",
       "      <th>200</th>\n",
       "      <td>2019-07-23</td>\n",
       "      <td>133</td>\n",
       "    </tr>\n",
       "    <tr>\n",
       "      <th>201</th>\n",
       "      <td>2019-07-24</td>\n",
       "      <td>178</td>\n",
       "    </tr>\n",
       "    <tr>\n",
       "      <th>202</th>\n",
       "      <td>2019-07-25</td>\n",
       "      <td>239</td>\n",
       "    </tr>\n",
       "    <tr>\n",
       "      <th>203</th>\n",
       "      <td>2019-07-26</td>\n",
       "      <td>207</td>\n",
       "    </tr>\n",
       "    <tr>\n",
       "      <th>204</th>\n",
       "      <td>2019-07-27</td>\n",
       "      <td>158</td>\n",
       "    </tr>\n",
       "    <tr>\n",
       "      <th>205</th>\n",
       "      <td>2019-07-28</td>\n",
       "      <td>73</td>\n",
       "    </tr>\n",
       "    <tr>\n",
       "      <th>206</th>\n",
       "      <td>2019-07-29</td>\n",
       "      <td>160</td>\n",
       "    </tr>\n",
       "    <tr>\n",
       "      <th>207</th>\n",
       "      <td>2019-07-30</td>\n",
       "      <td>146</td>\n",
       "    </tr>\n",
       "    <tr>\n",
       "      <th>208</th>\n",
       "      <td>2019-07-31</td>\n",
       "      <td>178</td>\n",
       "    </tr>\n",
       "  </tbody>\n",
       "</table>\n",
       "</div>"
      ],
      "text/plain": [
       "           date  dish_id_1\n",
       "160  2019-06-13         75\n",
       "161  2019-06-14         87\n",
       "162  2019-06-15         69\n",
       "163  2019-06-16         34\n",
       "164  2019-06-17        173\n",
       "165  2019-06-18        162\n",
       "166  2019-06-19        110\n",
       "167  2019-06-20        109\n",
       "168  2019-06-21        127\n",
       "169  2019-06-22         72\n",
       "170  2019-06-23         18\n",
       "171  2019-06-24        151\n",
       "172  2019-06-25        106\n",
       "173  2019-06-26        124\n",
       "174  2019-06-27        111\n",
       "175  2019-06-28         93\n",
       "176  2019-06-29         55\n",
       "177  2019-06-30         32\n",
       "178  2019-07-01         97\n",
       "179  2019-07-02        100\n",
       "180  2019-07-03         91\n",
       "181  2019-07-04        139\n",
       "182  2019-07-05        195\n",
       "183  2019-07-06         56\n",
       "184  2019-07-07         42\n",
       "185  2019-07-08        135\n",
       "186  2019-07-09        123\n",
       "187  2019-07-10        136\n",
       "188  2019-07-11        142\n",
       "189  2019-07-12        139\n",
       "190  2019-07-13         82\n",
       "191  2019-07-14         35\n",
       "192  2019-07-15        168\n",
       "193  2019-07-16        135\n",
       "194  2019-07-17        213\n",
       "195  2019-07-18        317\n",
       "196  2019-07-19        158\n",
       "197  2019-07-20        175\n",
       "198  2019-07-21        114\n",
       "199  2019-07-22        148\n",
       "200  2019-07-23        133\n",
       "201  2019-07-24        178\n",
       "202  2019-07-25        239\n",
       "203  2019-07-26        207\n",
       "204  2019-07-27        158\n",
       "205  2019-07-28         73\n",
       "206  2019-07-29        160\n",
       "207  2019-07-30        146\n",
       "208  2019-07-31        178"
      ]
     },
     "execution_count": 72,
     "metadata": {},
     "output_type": "execute_result"
    }
   ],
   "source": [
    "data_test2"
   ]
  },
  {
   "cell_type": "code",
   "execution_count": null,
   "id": "3fa039ea",
   "metadata": {},
   "outputs": [],
   "source": []
  }
 ],
 "metadata": {
  "kernelspec": {
   "display_name": "Python 3",
   "language": "python",
   "name": "python3"
  },
  "language_info": {
   "codemirror_mode": {
    "name": "ipython",
    "version": 3
   },
   "file_extension": ".py",
   "mimetype": "text/x-python",
   "name": "python",
   "nbconvert_exporter": "python",
   "pygments_lexer": "ipython3",
   "version": "3.8.8"
  }
 },
 "nbformat": 4,
 "nbformat_minor": 5
}
