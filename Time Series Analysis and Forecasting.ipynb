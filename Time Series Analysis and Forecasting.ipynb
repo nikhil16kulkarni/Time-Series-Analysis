{
 "cells": [
  {
   "cell_type": "markdown",
   "id": "093e6b1a",
   "metadata": {},
   "source": [
    "* Name - Nikhil Kulkarni\n",
    "* College - Pune Institute of Computer Technology, Pune"
   ]
  },
  {
   "cell_type": "code",
   "execution_count": 1,
   "id": "66986af0",
   "metadata": {},
   "outputs": [],
   "source": [
    "import numpy as np\n",
    "import pandas as pd\n",
    "import matplotlib.pyplot as plt\n",
    "%matplotlib inline\n",
    "import seaborn as sns"
   ]
  },
  {
   "cell_type": "code",
   "execution_count": 2,
   "id": "a221c9b9",
   "metadata": {},
   "outputs": [],
   "source": [
    "data = pd.read_csv(\"data.csv\")"
   ]
  },
  {
   "cell_type": "code",
   "execution_count": 3,
   "id": "fc6ced39",
   "metadata": {},
   "outputs": [
    {
     "data": {
      "text/plain": [
       "(209, 3)"
      ]
     },
     "execution_count": 3,
     "metadata": {},
     "output_type": "execute_result"
    }
   ],
   "source": [
    "data.shape"
   ]
  },
  {
   "cell_type": "code",
   "execution_count": 4,
   "id": "ae5b7238",
   "metadata": {},
   "outputs": [
    {
     "data": {
      "text/html": [
       "<div>\n",
       "<style scoped>\n",
       "    .dataframe tbody tr th:only-of-type {\n",
       "        vertical-align: middle;\n",
       "    }\n",
       "\n",
       "    .dataframe tbody tr th {\n",
       "        vertical-align: top;\n",
       "    }\n",
       "\n",
       "    .dataframe thead th {\n",
       "        text-align: right;\n",
       "    }\n",
       "</style>\n",
       "<table border=\"1\" class=\"dataframe\">\n",
       "  <thead>\n",
       "    <tr style=\"text-align: right;\">\n",
       "      <th></th>\n",
       "      <th>Unnamed: 0</th>\n",
       "      <th>date</th>\n",
       "      <th>dish_id_1</th>\n",
       "    </tr>\n",
       "  </thead>\n",
       "  <tbody>\n",
       "    <tr>\n",
       "      <th>0</th>\n",
       "      <td>0</td>\n",
       "      <td>2019-01-01</td>\n",
       "      <td>120</td>\n",
       "    </tr>\n",
       "    <tr>\n",
       "      <th>1</th>\n",
       "      <td>1</td>\n",
       "      <td>2019-01-02</td>\n",
       "      <td>316</td>\n",
       "    </tr>\n",
       "    <tr>\n",
       "      <th>2</th>\n",
       "      <td>2</td>\n",
       "      <td>2019-01-03</td>\n",
       "      <td>302</td>\n",
       "    </tr>\n",
       "    <tr>\n",
       "      <th>3</th>\n",
       "      <td>3</td>\n",
       "      <td>2019-01-04</td>\n",
       "      <td>334</td>\n",
       "    </tr>\n",
       "    <tr>\n",
       "      <th>4</th>\n",
       "      <td>4</td>\n",
       "      <td>2019-01-05</td>\n",
       "      <td>189</td>\n",
       "    </tr>\n",
       "  </tbody>\n",
       "</table>\n",
       "</div>"
      ],
      "text/plain": [
       "   Unnamed: 0        date  dish_id_1\n",
       "0           0  2019-01-01        120\n",
       "1           1  2019-01-02        316\n",
       "2           2  2019-01-03        302\n",
       "3           3  2019-01-04        334\n",
       "4           4  2019-01-05        189"
      ]
     },
     "execution_count": 4,
     "metadata": {},
     "output_type": "execute_result"
    }
   ],
   "source": [
    "data.head()"
   ]
  },
  {
   "cell_type": "code",
   "execution_count": 5,
   "id": "a40ee45c",
   "metadata": {},
   "outputs": [
    {
     "data": {
      "text/html": [
       "<div>\n",
       "<style scoped>\n",
       "    .dataframe tbody tr th:only-of-type {\n",
       "        vertical-align: middle;\n",
       "    }\n",
       "\n",
       "    .dataframe tbody tr th {\n",
       "        vertical-align: top;\n",
       "    }\n",
       "\n",
       "    .dataframe thead th {\n",
       "        text-align: right;\n",
       "    }\n",
       "</style>\n",
       "<table border=\"1\" class=\"dataframe\">\n",
       "  <thead>\n",
       "    <tr style=\"text-align: right;\">\n",
       "      <th></th>\n",
       "      <th>Unnamed: 0</th>\n",
       "      <th>date</th>\n",
       "      <th>dish_id_1</th>\n",
       "    </tr>\n",
       "  </thead>\n",
       "  <tbody>\n",
       "    <tr>\n",
       "      <th>0</th>\n",
       "      <td>0</td>\n",
       "      <td>2019-01-01</td>\n",
       "      <td>120</td>\n",
       "    </tr>\n",
       "    <tr>\n",
       "      <th>1</th>\n",
       "      <td>1</td>\n",
       "      <td>2019-01-02</td>\n",
       "      <td>316</td>\n",
       "    </tr>\n",
       "    <tr>\n",
       "      <th>2</th>\n",
       "      <td>2</td>\n",
       "      <td>2019-01-03</td>\n",
       "      <td>302</td>\n",
       "    </tr>\n",
       "    <tr>\n",
       "      <th>3</th>\n",
       "      <td>3</td>\n",
       "      <td>2019-01-04</td>\n",
       "      <td>334</td>\n",
       "    </tr>\n",
       "    <tr>\n",
       "      <th>4</th>\n",
       "      <td>4</td>\n",
       "      <td>2019-01-05</td>\n",
       "      <td>189</td>\n",
       "    </tr>\n",
       "    <tr>\n",
       "      <th>5</th>\n",
       "      <td>5</td>\n",
       "      <td>2019-01-06</td>\n",
       "      <td>109</td>\n",
       "    </tr>\n",
       "    <tr>\n",
       "      <th>6</th>\n",
       "      <td>6</td>\n",
       "      <td>2019-01-07</td>\n",
       "      <td>352</td>\n",
       "    </tr>\n",
       "    <tr>\n",
       "      <th>7</th>\n",
       "      <td>7</td>\n",
       "      <td>2019-01-08</td>\n",
       "      <td>361</td>\n",
       "    </tr>\n",
       "    <tr>\n",
       "      <th>8</th>\n",
       "      <td>8</td>\n",
       "      <td>2019-01-09</td>\n",
       "      <td>369</td>\n",
       "    </tr>\n",
       "    <tr>\n",
       "      <th>9</th>\n",
       "      <td>9</td>\n",
       "      <td>2019-01-10</td>\n",
       "      <td>393</td>\n",
       "    </tr>\n",
       "    <tr>\n",
       "      <th>10</th>\n",
       "      <td>10</td>\n",
       "      <td>2019-01-11</td>\n",
       "      <td>345</td>\n",
       "    </tr>\n",
       "    <tr>\n",
       "      <th>11</th>\n",
       "      <td>11</td>\n",
       "      <td>2019-01-12</td>\n",
       "      <td>223</td>\n",
       "    </tr>\n",
       "    <tr>\n",
       "      <th>12</th>\n",
       "      <td>12</td>\n",
       "      <td>2019-01-13</td>\n",
       "      <td>120</td>\n",
       "    </tr>\n",
       "    <tr>\n",
       "      <th>13</th>\n",
       "      <td>13</td>\n",
       "      <td>2019-01-14</td>\n",
       "      <td>353</td>\n",
       "    </tr>\n",
       "    <tr>\n",
       "      <th>14</th>\n",
       "      <td>14</td>\n",
       "      <td>2019-01-15</td>\n",
       "      <td>346</td>\n",
       "    </tr>\n",
       "    <tr>\n",
       "      <th>15</th>\n",
       "      <td>15</td>\n",
       "      <td>2019-01-16</td>\n",
       "      <td>302</td>\n",
       "    </tr>\n",
       "    <tr>\n",
       "      <th>16</th>\n",
       "      <td>16</td>\n",
       "      <td>2019-01-17</td>\n",
       "      <td>365</td>\n",
       "    </tr>\n",
       "    <tr>\n",
       "      <th>17</th>\n",
       "      <td>17</td>\n",
       "      <td>2019-01-18</td>\n",
       "      <td>281</td>\n",
       "    </tr>\n",
       "    <tr>\n",
       "      <th>18</th>\n",
       "      <td>18</td>\n",
       "      <td>2019-01-19</td>\n",
       "      <td>183</td>\n",
       "    </tr>\n",
       "    <tr>\n",
       "      <th>19</th>\n",
       "      <td>19</td>\n",
       "      <td>2019-01-20</td>\n",
       "      <td>163</td>\n",
       "    </tr>\n",
       "    <tr>\n",
       "      <th>20</th>\n",
       "      <td>20</td>\n",
       "      <td>2019-01-21</td>\n",
       "      <td>381</td>\n",
       "    </tr>\n",
       "    <tr>\n",
       "      <th>21</th>\n",
       "      <td>21</td>\n",
       "      <td>2019-01-22</td>\n",
       "      <td>340</td>\n",
       "    </tr>\n",
       "    <tr>\n",
       "      <th>22</th>\n",
       "      <td>22</td>\n",
       "      <td>2019-01-23</td>\n",
       "      <td>324</td>\n",
       "    </tr>\n",
       "    <tr>\n",
       "      <th>23</th>\n",
       "      <td>23</td>\n",
       "      <td>2019-01-24</td>\n",
       "      <td>322</td>\n",
       "    </tr>\n",
       "    <tr>\n",
       "      <th>24</th>\n",
       "      <td>24</td>\n",
       "      <td>2019-01-25</td>\n",
       "      <td>319</td>\n",
       "    </tr>\n",
       "    <tr>\n",
       "      <th>25</th>\n",
       "      <td>25</td>\n",
       "      <td>2019-01-26</td>\n",
       "      <td>102</td>\n",
       "    </tr>\n",
       "    <tr>\n",
       "      <th>26</th>\n",
       "      <td>26</td>\n",
       "      <td>2019-01-27</td>\n",
       "      <td>191</td>\n",
       "    </tr>\n",
       "    <tr>\n",
       "      <th>27</th>\n",
       "      <td>27</td>\n",
       "      <td>2019-01-28</td>\n",
       "      <td>365</td>\n",
       "    </tr>\n",
       "    <tr>\n",
       "      <th>28</th>\n",
       "      <td>28</td>\n",
       "      <td>2019-01-29</td>\n",
       "      <td>363</td>\n",
       "    </tr>\n",
       "    <tr>\n",
       "      <th>29</th>\n",
       "      <td>29</td>\n",
       "      <td>2019-01-30</td>\n",
       "      <td>355</td>\n",
       "    </tr>\n",
       "    <tr>\n",
       "      <th>30</th>\n",
       "      <td>30</td>\n",
       "      <td>2019-01-31</td>\n",
       "      <td>320</td>\n",
       "    </tr>\n",
       "    <tr>\n",
       "      <th>31</th>\n",
       "      <td>31</td>\n",
       "      <td>2019-02-01</td>\n",
       "      <td>365</td>\n",
       "    </tr>\n",
       "    <tr>\n",
       "      <th>32</th>\n",
       "      <td>32</td>\n",
       "      <td>2019-02-02</td>\n",
       "      <td>204</td>\n",
       "    </tr>\n",
       "    <tr>\n",
       "      <th>33</th>\n",
       "      <td>33</td>\n",
       "      <td>2019-02-03</td>\n",
       "      <td>119</td>\n",
       "    </tr>\n",
       "    <tr>\n",
       "      <th>34</th>\n",
       "      <td>34</td>\n",
       "      <td>2019-02-04</td>\n",
       "      <td>353</td>\n",
       "    </tr>\n",
       "    <tr>\n",
       "      <th>35</th>\n",
       "      <td>35</td>\n",
       "      <td>2019-02-05</td>\n",
       "      <td>275</td>\n",
       "    </tr>\n",
       "    <tr>\n",
       "      <th>36</th>\n",
       "      <td>36</td>\n",
       "      <td>2019-02-06</td>\n",
       "      <td>298</td>\n",
       "    </tr>\n",
       "    <tr>\n",
       "      <th>37</th>\n",
       "      <td>37</td>\n",
       "      <td>2019-02-07</td>\n",
       "      <td>403</td>\n",
       "    </tr>\n",
       "    <tr>\n",
       "      <th>38</th>\n",
       "      <td>38</td>\n",
       "      <td>2019-02-08</td>\n",
       "      <td>316</td>\n",
       "    </tr>\n",
       "    <tr>\n",
       "      <th>39</th>\n",
       "      <td>39</td>\n",
       "      <td>2019-02-09</td>\n",
       "      <td>159</td>\n",
       "    </tr>\n",
       "    <tr>\n",
       "      <th>40</th>\n",
       "      <td>40</td>\n",
       "      <td>2019-02-10</td>\n",
       "      <td>89</td>\n",
       "    </tr>\n",
       "    <tr>\n",
       "      <th>41</th>\n",
       "      <td>41</td>\n",
       "      <td>2019-02-11</td>\n",
       "      <td>210</td>\n",
       "    </tr>\n",
       "    <tr>\n",
       "      <th>42</th>\n",
       "      <td>42</td>\n",
       "      <td>2019-02-12</td>\n",
       "      <td>338</td>\n",
       "    </tr>\n",
       "    <tr>\n",
       "      <th>43</th>\n",
       "      <td>43</td>\n",
       "      <td>2019-02-13</td>\n",
       "      <td>1</td>\n",
       "    </tr>\n",
       "    <tr>\n",
       "      <th>44</th>\n",
       "      <td>44</td>\n",
       "      <td>2019-02-14</td>\n",
       "      <td>0</td>\n",
       "    </tr>\n",
       "    <tr>\n",
       "      <th>45</th>\n",
       "      <td>45</td>\n",
       "      <td>2019-02-15</td>\n",
       "      <td>271</td>\n",
       "    </tr>\n",
       "    <tr>\n",
       "      <th>46</th>\n",
       "      <td>46</td>\n",
       "      <td>2019-02-16</td>\n",
       "      <td>174</td>\n",
       "    </tr>\n",
       "    <tr>\n",
       "      <th>47</th>\n",
       "      <td>47</td>\n",
       "      <td>2019-02-17</td>\n",
       "      <td>167</td>\n",
       "    </tr>\n",
       "    <tr>\n",
       "      <th>48</th>\n",
       "      <td>48</td>\n",
       "      <td>2019-02-18</td>\n",
       "      <td>259</td>\n",
       "    </tr>\n",
       "    <tr>\n",
       "      <th>49</th>\n",
       "      <td>49</td>\n",
       "      <td>2019-02-19</td>\n",
       "      <td>273</td>\n",
       "    </tr>\n",
       "  </tbody>\n",
       "</table>\n",
       "</div>"
      ],
      "text/plain": [
       "    Unnamed: 0        date  dish_id_1\n",
       "0            0  2019-01-01        120\n",
       "1            1  2019-01-02        316\n",
       "2            2  2019-01-03        302\n",
       "3            3  2019-01-04        334\n",
       "4            4  2019-01-05        189\n",
       "5            5  2019-01-06        109\n",
       "6            6  2019-01-07        352\n",
       "7            7  2019-01-08        361\n",
       "8            8  2019-01-09        369\n",
       "9            9  2019-01-10        393\n",
       "10          10  2019-01-11        345\n",
       "11          11  2019-01-12        223\n",
       "12          12  2019-01-13        120\n",
       "13          13  2019-01-14        353\n",
       "14          14  2019-01-15        346\n",
       "15          15  2019-01-16        302\n",
       "16          16  2019-01-17        365\n",
       "17          17  2019-01-18        281\n",
       "18          18  2019-01-19        183\n",
       "19          19  2019-01-20        163\n",
       "20          20  2019-01-21        381\n",
       "21          21  2019-01-22        340\n",
       "22          22  2019-01-23        324\n",
       "23          23  2019-01-24        322\n",
       "24          24  2019-01-25        319\n",
       "25          25  2019-01-26        102\n",
       "26          26  2019-01-27        191\n",
       "27          27  2019-01-28        365\n",
       "28          28  2019-01-29        363\n",
       "29          29  2019-01-30        355\n",
       "30          30  2019-01-31        320\n",
       "31          31  2019-02-01        365\n",
       "32          32  2019-02-02        204\n",
       "33          33  2019-02-03        119\n",
       "34          34  2019-02-04        353\n",
       "35          35  2019-02-05        275\n",
       "36          36  2019-02-06        298\n",
       "37          37  2019-02-07        403\n",
       "38          38  2019-02-08        316\n",
       "39          39  2019-02-09        159\n",
       "40          40  2019-02-10         89\n",
       "41          41  2019-02-11        210\n",
       "42          42  2019-02-12        338\n",
       "43          43  2019-02-13          1\n",
       "44          44  2019-02-14          0\n",
       "45          45  2019-02-15        271\n",
       "46          46  2019-02-16        174\n",
       "47          47  2019-02-17        167\n",
       "48          48  2019-02-18        259\n",
       "49          49  2019-02-19        273"
      ]
     },
     "execution_count": 5,
     "metadata": {},
     "output_type": "execute_result"
    }
   ],
   "source": [
    "data.head(50)"
   ]
  },
  {
   "cell_type": "code",
   "execution_count": 7,
   "id": "c207d558",
   "metadata": {},
   "outputs": [
    {
     "data": {
      "text/html": [
       "<div>\n",
       "<style scoped>\n",
       "    .dataframe tbody tr th:only-of-type {\n",
       "        vertical-align: middle;\n",
       "    }\n",
       "\n",
       "    .dataframe tbody tr th {\n",
       "        vertical-align: top;\n",
       "    }\n",
       "\n",
       "    .dataframe thead th {\n",
       "        text-align: right;\n",
       "    }\n",
       "</style>\n",
       "<table border=\"1\" class=\"dataframe\">\n",
       "  <thead>\n",
       "    <tr style=\"text-align: right;\">\n",
       "      <th></th>\n",
       "      <th>Unnamed: 0</th>\n",
       "      <th>dish_id_1</th>\n",
       "    </tr>\n",
       "  </thead>\n",
       "  <tbody>\n",
       "    <tr>\n",
       "      <th>count</th>\n",
       "      <td>209.000000</td>\n",
       "      <td>209.000000</td>\n",
       "    </tr>\n",
       "    <tr>\n",
       "      <th>mean</th>\n",
       "      <td>104.000000</td>\n",
       "      <td>155.200957</td>\n",
       "    </tr>\n",
       "    <tr>\n",
       "      <th>std</th>\n",
       "      <td>60.477268</td>\n",
       "      <td>97.312037</td>\n",
       "    </tr>\n",
       "    <tr>\n",
       "      <th>min</th>\n",
       "      <td>0.000000</td>\n",
       "      <td>0.000000</td>\n",
       "    </tr>\n",
       "    <tr>\n",
       "      <th>25%</th>\n",
       "      <td>52.000000</td>\n",
       "      <td>85.000000</td>\n",
       "    </tr>\n",
       "    <tr>\n",
       "      <th>50%</th>\n",
       "      <td>104.000000</td>\n",
       "      <td>126.000000</td>\n",
       "    </tr>\n",
       "    <tr>\n",
       "      <th>75%</th>\n",
       "      <td>156.000000</td>\n",
       "      <td>210.000000</td>\n",
       "    </tr>\n",
       "    <tr>\n",
       "      <th>max</th>\n",
       "      <td>208.000000</td>\n",
       "      <td>403.000000</td>\n",
       "    </tr>\n",
       "  </tbody>\n",
       "</table>\n",
       "</div>"
      ],
      "text/plain": [
       "       Unnamed: 0   dish_id_1\n",
       "count  209.000000  209.000000\n",
       "mean   104.000000  155.200957\n",
       "std     60.477268   97.312037\n",
       "min      0.000000    0.000000\n",
       "25%     52.000000   85.000000\n",
       "50%    104.000000  126.000000\n",
       "75%    156.000000  210.000000\n",
       "max    208.000000  403.000000"
      ]
     },
     "execution_count": 7,
     "metadata": {},
     "output_type": "execute_result"
    }
   ],
   "source": [
    "data.describe()"
   ]
  },
  {
   "cell_type": "code",
   "execution_count": 8,
   "id": "77b84cfd",
   "metadata": {},
   "outputs": [
    {
     "name": "stdout",
     "output_type": "stream",
     "text": [
      "<class 'pandas.core.frame.DataFrame'>\n",
      "RangeIndex: 209 entries, 0 to 208\n",
      "Data columns (total 3 columns):\n",
      " #   Column      Non-Null Count  Dtype \n",
      "---  ------      --------------  ----- \n",
      " 0   Unnamed: 0  209 non-null    int64 \n",
      " 1   date        209 non-null    object\n",
      " 2   dish_id_1   209 non-null    int64 \n",
      "dtypes: int64(2), object(1)\n",
      "memory usage: 5.0+ KB\n"
     ]
    }
   ],
   "source": [
    "data.info()"
   ]
  },
  {
   "cell_type": "code",
   "execution_count": 9,
   "id": "c35a0de1",
   "metadata": {},
   "outputs": [
    {
     "data": {
      "text/plain": [
       "Unnamed: 0    0.0\n",
       "date          0.0\n",
       "dish_id_1     0.0\n",
       "dtype: float64"
      ]
     },
     "execution_count": 9,
     "metadata": {},
     "output_type": "execute_result"
    }
   ],
   "source": [
    "data.isnull().sum()*100/data.shape[0]"
   ]
  },
  {
   "cell_type": "code",
   "execution_count": 11,
   "id": "7e866ae5",
   "metadata": {},
   "outputs": [
    {
     "name": "stderr",
     "output_type": "stream",
     "text": [
      "C:\\Users\\nikhi\\anaconda3\\lib\\site-packages\\seaborn\\_decorators.py:36: FutureWarning: Pass the following variable as a keyword arg: x. From version 0.12, the only valid positional argument will be `data`, and passing other arguments without an explicit keyword will result in an error or misinterpretation.\n",
      "  warnings.warn(\n"
     ]
    },
    {
     "data": {
      "image/png": "[encoded data removed]",
      "text/plain": [
       "<Figure size 360x360 with 1 Axes>"
      ]
     },
     "metadata": {
      "needs_background": "light"
     },
     "output_type": "display_data"
    }
   ],
   "source": [
    "fig, axs = plt.subplots(1, figsize = (5,5))\n",
    "plt1 = sns.boxplot(data['dish_id_1'])\n",
    "plt.tight_layout()"
   ]
  },
  {
   "cell_type": "code",
   "execution_count": 12,
   "id": "2888b928",
   "metadata": {},
   "outputs": [
    {
     "data": {
      "image/png": "[encoded data removed]",
      "text/plain": [
       "<Figure size 288x288 with 1 Axes>"
      ]
     },
     "metadata": {
      "needs_background": "light"
     },
     "output_type": "display_data"
    }
   ],
   "source": [
    "sns.pairplot(data, x_vars=\"date\", y_vars=\"dish_id_1\", height=4, aspect=1, kind=\"scatter\")\n",
    "plt.show()"
   ]
  },
  {
   "cell_type": "code",
   "execution_count": 13,
   "id": "2c060a00",
   "metadata": {},
   "outputs": [],
   "source": [
    "df = pd.read_csv(\"data.csv\",index_col=[1], parse_dates=True, squeeze=True)"
   ]
  },
  {
   "cell_type": "code",
   "execution_count": 14,
   "id": "6b4a63dd",
   "metadata": {},
   "outputs": [
    {
     "data": {
      "text/plain": [
       "pandas.core.frame.DataFrame"
      ]
     },
     "execution_count": 14,
     "metadata": {},
     "output_type": "execute_result"
    }
   ],
   "source": [
    "type(df)"
   ]
  },
  {
   "cell_type": "code",
   "execution_count": 15,
   "id": "76ce5aa5",
   "metadata": {},
   "outputs": [
    {
     "data": {
      "text/plain": [
       "<AxesSubplot:xlabel='date'>"
      ]
     },
     "execution_count": 15,
     "metadata": {},
     "output_type": "execute_result"
    },
    {
     "data": {
      "image/png": "[encoded data removed]",
      "text/plain": [
       "<Figure size 432x288 with 1 Axes>"
      ]
     },
     "metadata": {
      "needs_background": "light"
     },
     "output_type": "display_data"
    }
   ],
   "source": [
    "df.plot()"
   ]
  },
  {
   "cell_type": "code",
   "execution_count": 16,
   "id": "692aa850",
   "metadata": {},
   "outputs": [
    {
     "data": {
      "text/plain": [
       "<AxesSubplot:xlabel='date'>"
      ]
     },
     "execution_count": 16,
     "metadata": {},
     "output_type": "execute_result"
    },
    {
     "data": {
      "image/png": "[encoded data removed]",
      "text/plain": [
       "<Figure size 432x288 with 1 Axes>"
      ]
     },
     "metadata": {
      "needs_background": "light"
     },
     "output_type": "display_data"
    }
   ],
   "source": [
    "df.plot(style = 'k.')"
   ]
  },
  {
   "cell_type": "code",
   "execution_count": 17,
   "id": "f534df58",
   "metadata": {},
   "outputs": [
    {
     "data": {
      "text/plain": [
       "418"
      ]
     },
     "execution_count": 17,
     "metadata": {},
     "output_type": "execute_result"
    }
   ],
   "source": [
    "df.size"
   ]
  },
  {
   "cell_type": "code",
   "execution_count": 18,
   "id": "8fb51354",
   "metadata": {},
   "outputs": [
    {
     "data": {
      "text/html": [
       "<div>\n",
       "<style scoped>\n",
       "    .dataframe tbody tr th:only-of-type {\n",
       "        vertical-align: middle;\n",
       "    }\n",
       "\n",
       "    .dataframe tbody tr th {\n",
       "        vertical-align: top;\n",
       "    }\n",
       "\n",
       "    .dataframe thead th {\n",
       "        text-align: right;\n",
       "    }\n",
       "</style>\n",
       "<table border=\"1\" class=\"dataframe\">\n",
       "  <thead>\n",
       "    <tr style=\"text-align: right;\">\n",
       "      <th></th>\n",
       "      <th>Unnamed: 0</th>\n",
       "      <th>dish_id_1</th>\n",
       "    </tr>\n",
       "  </thead>\n",
       "  <tbody>\n",
       "    <tr>\n",
       "      <th>count</th>\n",
       "      <td>209.000000</td>\n",
       "      <td>209.000000</td>\n",
       "    </tr>\n",
       "    <tr>\n",
       "      <th>mean</th>\n",
       "      <td>104.000000</td>\n",
       "      <td>155.200957</td>\n",
       "    </tr>\n",
       "    <tr>\n",
       "      <th>std</th>\n",
       "      <td>60.477268</td>\n",
       "      <td>97.312037</td>\n",
       "    </tr>\n",
       "    <tr>\n",
       "      <th>min</th>\n",
       "      <td>0.000000</td>\n",
       "      <td>0.000000</td>\n",
       "    </tr>\n",
       "    <tr>\n",
       "      <th>25%</th>\n",
       "      <td>52.000000</td>\n",
       "      <td>85.000000</td>\n",
       "    </tr>\n",
       "    <tr>\n",
       "      <th>50%</th>\n",
       "      <td>104.000000</td>\n",
       "      <td>126.000000</td>\n",
       "    </tr>\n",
       "    <tr>\n",
       "      <th>75%</th>\n",
       "      <td>156.000000</td>\n",
       "      <td>210.000000</td>\n",
       "    </tr>\n",
       "    <tr>\n",
       "      <th>max</th>\n",
       "      <td>208.000000</td>\n",
       "      <td>403.000000</td>\n",
       "    </tr>\n",
       "  </tbody>\n",
       "</table>\n",
       "</div>"
      ],
      "text/plain": [
       "       Unnamed: 0   dish_id_1\n",
       "count  209.000000  209.000000\n",
       "mean   104.000000  155.200957\n",
       "std     60.477268   97.312037\n",
       "min      0.000000    0.000000\n",
       "25%     52.000000   85.000000\n",
       "50%    104.000000  126.000000\n",
       "75%    156.000000  210.000000\n",
       "max    208.000000  403.000000"
      ]
     },
     "execution_count": 18,
     "metadata": {},
     "output_type": "execute_result"
    }
   ],
   "source": [
    "df.describe()"
   ]
  },
  {
   "cell_type": "code",
   "execution_count": 19,
   "id": "96244b4f",
   "metadata": {},
   "outputs": [],
   "source": [
    "df_ma = df.rolling(window=5).mean()"
   ]
  },
  {
   "cell_type": "code",
   "execution_count": 20,
   "id": "ac61985a",
   "metadata": {},
   "outputs": [
    {
     "data": {
      "text/plain": [
       "<AxesSubplot:xlabel='date'>"
      ]
     },
     "execution_count": 20,
     "metadata": {},
     "output_type": "execute_result"
    },
    {
     "data": {
      "image/png": "[encoded data removed]",
      "text/plain": [
       "<Figure size 432x288 with 1 Axes>"
      ]
     },
     "metadata": {
      "needs_background": "light"
     },
     "output_type": "display_data"
    }
   ],
   "source": [
    "df_ma.plot()"
   ]
  },
  {
   "cell_type": "code",
   "execution_count": 21,
   "id": "b3b295d5",
   "metadata": {},
   "outputs": [
    {
     "data": {
      "text/plain": [
       "<AxesSubplot:xlabel='date'>"
      ]
     },
     "execution_count": 21,
     "metadata": {},
     "output_type": "execute_result"
    },
    {
     "data": {
      "image/png": "[encoded data removed]",
      "text/plain": [
       "<Figure size 432x288 with 1 Axes>"
      ]
     },
     "metadata": {
      "needs_background": "light"
     },
     "output_type": "display_data"
    }
   ],
   "source": [
    "df_ma = df.rolling(window=10).mean()\n",
    "df_ma.plot()"
   ]
  },
  {
   "cell_type": "code",
   "execution_count": 22,
   "id": "46c02714",
   "metadata": {},
   "outputs": [
    {
     "data": {
      "text/html": [
       "<div>\n",
       "<style scoped>\n",
       "    .dataframe tbody tr th:only-of-type {\n",
       "        vertical-align: middle;\n",
       "    }\n",
       "\n",
       "    .dataframe tbody tr th {\n",
       "        vertical-align: top;\n",
       "    }\n",
       "\n",
       "    .dataframe thead th {\n",
       "        text-align: right;\n",
       "    }\n",
       "</style>\n",
       "<table border=\"1\" class=\"dataframe\">\n",
       "  <thead>\n",
       "    <tr style=\"text-align: right;\">\n",
       "      <th></th>\n",
       "      <th>Unnamed: 0</th>\n",
       "      <th>dish_id_1</th>\n",
       "    </tr>\n",
       "    <tr>\n",
       "      <th>date</th>\n",
       "      <th></th>\n",
       "      <th></th>\n",
       "    </tr>\n",
       "  </thead>\n",
       "  <tbody>\n",
       "    <tr>\n",
       "      <th>2019-01-01</th>\n",
       "      <td>0</td>\n",
       "      <td>120</td>\n",
       "    </tr>\n",
       "    <tr>\n",
       "      <th>2019-01-02</th>\n",
       "      <td>1</td>\n",
       "      <td>316</td>\n",
       "    </tr>\n",
       "    <tr>\n",
       "      <th>2019-01-03</th>\n",
       "      <td>2</td>\n",
       "      <td>302</td>\n",
       "    </tr>\n",
       "    <tr>\n",
       "      <th>2019-01-04</th>\n",
       "      <td>3</td>\n",
       "      <td>334</td>\n",
       "    </tr>\n",
       "    <tr>\n",
       "      <th>2019-01-05</th>\n",
       "      <td>4</td>\n",
       "      <td>189</td>\n",
       "    </tr>\n",
       "    <tr>\n",
       "      <th>...</th>\n",
       "      <td>...</td>\n",
       "      <td>...</td>\n",
       "    </tr>\n",
       "    <tr>\n",
       "      <th>2019-07-27</th>\n",
       "      <td>204</td>\n",
       "      <td>158</td>\n",
       "    </tr>\n",
       "    <tr>\n",
       "      <th>2019-07-28</th>\n",
       "      <td>205</td>\n",
       "      <td>73</td>\n",
       "    </tr>\n",
       "    <tr>\n",
       "      <th>2019-07-29</th>\n",
       "      <td>206</td>\n",
       "      <td>160</td>\n",
       "    </tr>\n",
       "    <tr>\n",
       "      <th>2019-07-30</th>\n",
       "      <td>207</td>\n",
       "      <td>146</td>\n",
       "    </tr>\n",
       "    <tr>\n",
       "      <th>2019-07-31</th>\n",
       "      <td>208</td>\n",
       "      <td>178</td>\n",
       "    </tr>\n",
       "  </tbody>\n",
       "</table>\n",
       "<p>209 rows × 2 columns</p>\n",
       "</div>"
      ],
      "text/plain": [
       "            Unnamed: 0  dish_id_1\n",
       "date                             \n",
       "2019-01-01           0        120\n",
       "2019-01-02           1        316\n",
       "2019-01-03           2        302\n",
       "2019-01-04           3        334\n",
       "2019-01-05           4        189\n",
       "...                ...        ...\n",
       "2019-07-27         204        158\n",
       "2019-07-28         205         73\n",
       "2019-07-29         206        160\n",
       "2019-07-30         207        146\n",
       "2019-07-31         208        178\n",
       "\n",
       "[209 rows x 2 columns]"
      ]
     },
     "execution_count": 22,
     "metadata": {},
     "output_type": "execute_result"
    }
   ],
   "source": [
    "df"
   ]
  },
  {
   "cell_type": "code",
   "execution_count": 24,
   "id": "a804dc87",
   "metadata": {},
   "outputs": [
    {
     "data": {
      "text/html": [
       "<div>\n",
       "<style scoped>\n",
       "    .dataframe tbody tr th:only-of-type {\n",
       "        vertical-align: middle;\n",
       "    }\n",
       "\n",
       "    .dataframe tbody tr th {\n",
       "        vertical-align: top;\n",
       "    }\n",
       "\n",
       "    .dataframe thead th {\n",
       "        text-align: right;\n",
       "    }\n",
       "</style>\n",
       "<table border=\"1\" class=\"dataframe\">\n",
       "  <thead>\n",
       "    <tr style=\"text-align: right;\">\n",
       "      <th></th>\n",
       "      <th>Unnamed: 0</th>\n",
       "      <th>dish_id_1</th>\n",
       "      <th>Unnamed: 0</th>\n",
       "      <th>dish_id_1</th>\n",
       "    </tr>\n",
       "    <tr>\n",
       "      <th>date</th>\n",
       "      <th></th>\n",
       "      <th></th>\n",
       "      <th></th>\n",
       "      <th></th>\n",
       "    </tr>\n",
       "  </thead>\n",
       "  <tbody>\n",
       "    <tr>\n",
       "      <th>2019-01-01</th>\n",
       "      <td>0</td>\n",
       "      <td>120</td>\n",
       "      <td>NaN</td>\n",
       "      <td>NaN</td>\n",
       "    </tr>\n",
       "    <tr>\n",
       "      <th>2019-01-02</th>\n",
       "      <td>1</td>\n",
       "      <td>316</td>\n",
       "      <td>0.0</td>\n",
       "      <td>120.0</td>\n",
       "    </tr>\n",
       "    <tr>\n",
       "      <th>2019-01-03</th>\n",
       "      <td>2</td>\n",
       "      <td>302</td>\n",
       "      <td>1.0</td>\n",
       "      <td>316.0</td>\n",
       "    </tr>\n",
       "    <tr>\n",
       "      <th>2019-01-04</th>\n",
       "      <td>3</td>\n",
       "      <td>334</td>\n",
       "      <td>2.0</td>\n",
       "      <td>302.0</td>\n",
       "    </tr>\n",
       "    <tr>\n",
       "      <th>2019-01-05</th>\n",
       "      <td>4</td>\n",
       "      <td>189</td>\n",
       "      <td>3.0</td>\n",
       "      <td>334.0</td>\n",
       "    </tr>\n",
       "    <tr>\n",
       "      <th>...</th>\n",
       "      <td>...</td>\n",
       "      <td>...</td>\n",
       "      <td>...</td>\n",
       "      <td>...</td>\n",
       "    </tr>\n",
       "    <tr>\n",
       "      <th>2019-07-27</th>\n",
       "      <td>204</td>\n",
       "      <td>158</td>\n",
       "      <td>203.0</td>\n",
       "      <td>207.0</td>\n",
       "    </tr>\n",
       "    <tr>\n",
       "      <th>2019-07-28</th>\n",
       "      <td>205</td>\n",
       "      <td>73</td>\n",
       "      <td>204.0</td>\n",
       "      <td>158.0</td>\n",
       "    </tr>\n",
       "    <tr>\n",
       "      <th>2019-07-29</th>\n",
       "      <td>206</td>\n",
       "      <td>160</td>\n",
       "      <td>205.0</td>\n",
       "      <td>73.0</td>\n",
       "    </tr>\n",
       "    <tr>\n",
       "      <th>2019-07-30</th>\n",
       "      <td>207</td>\n",
       "      <td>146</td>\n",
       "      <td>206.0</td>\n",
       "      <td>160.0</td>\n",
       "    </tr>\n",
       "    <tr>\n",
       "      <th>2019-07-31</th>\n",
       "      <td>208</td>\n",
       "      <td>178</td>\n",
       "      <td>207.0</td>\n",
       "      <td>146.0</td>\n",
       "    </tr>\n",
       "  </tbody>\n",
       "</table>\n",
       "<p>209 rows × 4 columns</p>\n",
       "</div>"
      ],
      "text/plain": [
       "            Unnamed: 0  dish_id_1  Unnamed: 0  dish_id_1\n",
       "date                                                    \n",
       "2019-01-01           0        120         NaN        NaN\n",
       "2019-01-02           1        316         0.0      120.0\n",
       "2019-01-03           2        302         1.0      316.0\n",
       "2019-01-04           3        334         2.0      302.0\n",
       "2019-01-05           4        189         3.0      334.0\n",
       "...                ...        ...         ...        ...\n",
       "2019-07-27         204        158       203.0      207.0\n",
       "2019-07-28         205         73       204.0      158.0\n",
       "2019-07-29         206        160       205.0       73.0\n",
       "2019-07-30         207        146       206.0      160.0\n",
       "2019-07-31         208        178       207.0      146.0\n",
       "\n",
       "[209 rows x 4 columns]"
      ]
     },
     "execution_count": 24,
     "metadata": {},
     "output_type": "execute_result"
    }
   ],
   "source": [
    "df_base = pd.concat([df,df.shift(1)],axis=1)\n",
    "df_base"
   ]
  },
  {
   "cell_type": "code",
   "execution_count": 32,
   "id": "9686db5f",
   "metadata": {},
   "outputs": [],
   "source": [
    "df_base.columns = [\"Actual_Number\", \"Actual_Sales\", \"New_Number\", \"Forecast_Sales\"]"
   ]
  },
  {
   "cell_type": "code",
   "execution_count": 33,
   "id": "36bbe2b5",
   "metadata": {},
   "outputs": [
    {
     "data": {
      "text/html": [
       "<div>\n",
       "<style scoped>\n",
       "    .dataframe tbody tr th:only-of-type {\n",
       "        vertical-align: middle;\n",
       "    }\n",
       "\n",
       "    .dataframe tbody tr th {\n",
       "        vertical-align: top;\n",
       "    }\n",
       "\n",
       "    .dataframe thead th {\n",
       "        text-align: right;\n",
       "    }\n",
       "</style>\n",
       "<table border=\"1\" class=\"dataframe\">\n",
       "  <thead>\n",
       "    <tr style=\"text-align: right;\">\n",
       "      <th></th>\n",
       "      <th>Actual_Number</th>\n",
       "      <th>Actual_Sales</th>\n",
       "      <th>New_Number</th>\n",
       "      <th>Forecast_Sales</th>\n",
       "    </tr>\n",
       "    <tr>\n",
       "      <th>date</th>\n",
       "      <th></th>\n",
       "      <th></th>\n",
       "      <th></th>\n",
       "      <th></th>\n",
       "    </tr>\n",
       "  </thead>\n",
       "  <tbody>\n",
       "    <tr>\n",
       "      <th>2019-01-02</th>\n",
       "      <td>1</td>\n",
       "      <td>316</td>\n",
       "      <td>0.0</td>\n",
       "      <td>120.0</td>\n",
       "    </tr>\n",
       "    <tr>\n",
       "      <th>2019-01-03</th>\n",
       "      <td>2</td>\n",
       "      <td>302</td>\n",
       "      <td>1.0</td>\n",
       "      <td>316.0</td>\n",
       "    </tr>\n",
       "    <tr>\n",
       "      <th>2019-01-04</th>\n",
       "      <td>3</td>\n",
       "      <td>334</td>\n",
       "      <td>2.0</td>\n",
       "      <td>302.0</td>\n",
       "    </tr>\n",
       "    <tr>\n",
       "      <th>2019-01-05</th>\n",
       "      <td>4</td>\n",
       "      <td>189</td>\n",
       "      <td>3.0</td>\n",
       "      <td>334.0</td>\n",
       "    </tr>\n",
       "    <tr>\n",
       "      <th>2019-01-06</th>\n",
       "      <td>5</td>\n",
       "      <td>109</td>\n",
       "      <td>4.0</td>\n",
       "      <td>189.0</td>\n",
       "    </tr>\n",
       "  </tbody>\n",
       "</table>\n",
       "</div>"
      ],
      "text/plain": [
       "            Actual_Number  Actual_Sales  New_Number  Forecast_Sales\n",
       "date                                                               \n",
       "2019-01-02              1           316         0.0           120.0\n",
       "2019-01-03              2           302         1.0           316.0\n",
       "2019-01-04              3           334         2.0           302.0\n",
       "2019-01-05              4           189         3.0           334.0\n",
       "2019-01-06              5           109         4.0           189.0"
      ]
     },
     "execution_count": 33,
     "metadata": {},
     "output_type": "execute_result"
    }
   ],
   "source": [
    "df_base.head()"
   ]
  },
  {
   "cell_type": "code",
   "execution_count": 34,
   "id": "a52449cc",
   "metadata": {},
   "outputs": [],
   "source": [
    "df_base.dropna(inplace=True)"
   ]
  },
  {
   "cell_type": "code",
   "execution_count": 35,
   "id": "428a8435",
   "metadata": {},
   "outputs": [
    {
     "data": {
      "text/html": [
       "<div>\n",
       "<style scoped>\n",
       "    .dataframe tbody tr th:only-of-type {\n",
       "        vertical-align: middle;\n",
       "    }\n",
       "\n",
       "    .dataframe tbody tr th {\n",
       "        vertical-align: top;\n",
       "    }\n",
       "\n",
       "    .dataframe thead th {\n",
       "        text-align: right;\n",
       "    }\n",
       "</style>\n",
       "<table border=\"1\" class=\"dataframe\">\n",
       "  <thead>\n",
       "    <tr style=\"text-align: right;\">\n",
       "      <th></th>\n",
       "      <th>Actual_Number</th>\n",
       "      <th>Actual_Sales</th>\n",
       "      <th>New_Number</th>\n",
       "      <th>Forecast_Sales</th>\n",
       "    </tr>\n",
       "    <tr>\n",
       "      <th>date</th>\n",
       "      <th></th>\n",
       "      <th></th>\n",
       "      <th></th>\n",
       "      <th></th>\n",
       "    </tr>\n",
       "  </thead>\n",
       "  <tbody>\n",
       "    <tr>\n",
       "      <th>2019-01-02</th>\n",
       "      <td>1</td>\n",
       "      <td>316</td>\n",
       "      <td>0.0</td>\n",
       "      <td>120.0</td>\n",
       "    </tr>\n",
       "    <tr>\n",
       "      <th>2019-01-03</th>\n",
       "      <td>2</td>\n",
       "      <td>302</td>\n",
       "      <td>1.0</td>\n",
       "      <td>316.0</td>\n",
       "    </tr>\n",
       "    <tr>\n",
       "      <th>2019-01-04</th>\n",
       "      <td>3</td>\n",
       "      <td>334</td>\n",
       "      <td>2.0</td>\n",
       "      <td>302.0</td>\n",
       "    </tr>\n",
       "    <tr>\n",
       "      <th>2019-01-05</th>\n",
       "      <td>4</td>\n",
       "      <td>189</td>\n",
       "      <td>3.0</td>\n",
       "      <td>334.0</td>\n",
       "    </tr>\n",
       "    <tr>\n",
       "      <th>2019-01-06</th>\n",
       "      <td>5</td>\n",
       "      <td>109</td>\n",
       "      <td>4.0</td>\n",
       "      <td>189.0</td>\n",
       "    </tr>\n",
       "    <tr>\n",
       "      <th>...</th>\n",
       "      <td>...</td>\n",
       "      <td>...</td>\n",
       "      <td>...</td>\n",
       "      <td>...</td>\n",
       "    </tr>\n",
       "    <tr>\n",
       "      <th>2019-07-27</th>\n",
       "      <td>204</td>\n",
       "      <td>158</td>\n",
       "      <td>203.0</td>\n",
       "      <td>207.0</td>\n",
       "    </tr>\n",
       "    <tr>\n",
       "      <th>2019-07-28</th>\n",
       "      <td>205</td>\n",
       "      <td>73</td>\n",
       "      <td>204.0</td>\n",
       "      <td>158.0</td>\n",
       "    </tr>\n",
       "    <tr>\n",
       "      <th>2019-07-29</th>\n",
       "      <td>206</td>\n",
       "      <td>160</td>\n",
       "      <td>205.0</td>\n",
       "      <td>73.0</td>\n",
       "    </tr>\n",
       "    <tr>\n",
       "      <th>2019-07-30</th>\n",
       "      <td>207</td>\n",
       "      <td>146</td>\n",
       "      <td>206.0</td>\n",
       "      <td>160.0</td>\n",
       "    </tr>\n",
       "    <tr>\n",
       "      <th>2019-07-31</th>\n",
       "      <td>208</td>\n",
       "      <td>178</td>\n",
       "      <td>207.0</td>\n",
       "      <td>146.0</td>\n",
       "    </tr>\n",
       "  </tbody>\n",
       "</table>\n",
       "<p>208 rows × 4 columns</p>\n",
       "</div>"
      ],
      "text/plain": [
       "            Actual_Number  Actual_Sales  New_Number  Forecast_Sales\n",
       "date                                                               \n",
       "2019-01-02              1           316         0.0           120.0\n",
       "2019-01-03              2           302         1.0           316.0\n",
       "2019-01-04              3           334         2.0           302.0\n",
       "2019-01-05              4           189         3.0           334.0\n",
       "2019-01-06              5           109         4.0           189.0\n",
       "...                   ...           ...         ...             ...\n",
       "2019-07-27            204           158       203.0           207.0\n",
       "2019-07-28            205            73       204.0           158.0\n",
       "2019-07-29            206           160       205.0            73.0\n",
       "2019-07-30            207           146       206.0           160.0\n",
       "2019-07-31            208           178       207.0           146.0\n",
       "\n",
       "[208 rows x 4 columns]"
      ]
     },
     "execution_count": 35,
     "metadata": {},
     "output_type": "execute_result"
    }
   ],
   "source": [
    "df_base"
   ]
  },
  {
   "cell_type": "code",
   "execution_count": 31,
   "id": "a6461dd7",
   "metadata": {},
   "outputs": [],
   "source": [
    "from sklearn.metrics import mean_squared_error"
   ]
  },
  {
   "cell_type": "code",
   "execution_count": 36,
   "id": "d29d9762",
   "metadata": {},
   "outputs": [
    {
     "data": {
      "text/plain": [
       "5870.961538461538"
      ]
     },
     "execution_count": 36,
     "metadata": {},
     "output_type": "execute_result"
    }
   ],
   "source": [
    "df_error = mean_squared_error(df_base.Actual_Sales, df_base.Forecast_Sales)\n",
    "df_error"
   ]
  },
  {
   "cell_type": "code",
   "execution_count": 37,
   "id": "de127759",
   "metadata": {},
   "outputs": [
    {
     "data": {
      "text/plain": [
       "76.62220003668348"
      ]
     },
     "execution_count": 37,
     "metadata": {},
     "output_type": "execute_result"
    }
   ],
   "source": [
    "np.sqrt(df_error)"
   ]
  },
  {
   "cell_type": "code",
   "execution_count": 38,
   "id": "4fc70ea0",
   "metadata": {},
   "outputs": [],
   "source": [
    "from statsmodels.graphics.tsaplots import plot_acf, plot_pacf"
   ]
  },
  {
   "cell_type": "code",
   "execution_count": 40,
   "id": "69aed1ad",
   "metadata": {},
   "outputs": [
    {
     "data": {
      "image/png": "[encoded data removed]",
      "text/plain": [
       "<Figure size 432x288 with 1 Axes>"
      ]
     },
     "execution_count": 40,
     "metadata": {},
     "output_type": "execute_result"
    },
    {
     "data": {
      "image/png": "[encoded data removed]",
      "text/plain": [
       "<Figure size 432x288 with 1 Axes>"
      ]
     },
     "metadata": {
      "needs_background": "light"
     },
     "output_type": "display_data"
    }
   ],
   "source": [
    "plot_acf(df.dish_id_1)"
   ]
  },
  {
   "cell_type": "code",
   "execution_count": 41,
   "id": "7a5afd4f",
   "metadata": {},
   "outputs": [
    {
     "data": {
      "image/png": "[encoded data removed]",
      "text/plain": [
       "<Figure size 432x288 with 1 Axes>"
      ]
     },
     "execution_count": 41,
     "metadata": {},
     "output_type": "execute_result"
    },
    {
     "data": {
      "image/png": "[encoded data removed]",
      "text/plain": [
       "<Figure size 432x288 with 1 Axes>"
      ]
     },
     "metadata": {
      "needs_background": "light"
     },
     "output_type": "display_data"
    }
   ],
   "source": [
    "plot_pacf(df.dish_id_1)"
   ]
  },
  {
   "cell_type": "code",
   "execution_count": 42,
   "id": "326d5beb",
   "metadata": {},
   "outputs": [],
   "source": [
    "from statsmodels.tsa.arima_model import ARIMA "
   ]
  },
  {
   "cell_type": "code",
   "execution_count": 46,
   "id": "c2b82452",
   "metadata": {},
   "outputs": [],
   "source": [
    "df_train = df.dish_id_1[0:150]\n",
    "df_test = df.dish_id_1[150:209]"
   ]
  },
  {
   "cell_type": "code",
   "execution_count": 50,
   "id": "9d4d1245",
   "metadata": {},
   "outputs": [
    {
     "name": "stderr",
     "output_type": "stream",
     "text": [
      "C:\\Users\\nikhi\\anaconda3\\lib\\site-packages\\statsmodels\\tsa\\base\\tsa_model.py:581: ValueWarning: A date index has been provided, but it has no associated frequency information and so will be ignored when e.g. forecasting.\n",
      "  warnings.warn('A date index has been provided, but it has no'\n",
      "C:\\Users\\nikhi\\anaconda3\\lib\\site-packages\\statsmodels\\tsa\\base\\tsa_model.py:581: ValueWarning: A date index has been provided, but it has no associated frequency information and so will be ignored when e.g. forecasting.\n",
      "  warnings.warn('A date index has been provided, but it has no'\n"
     ]
    }
   ],
   "source": [
    "df_model = ARIMA(df_train, order=(3,1,2))"
   ]
  },
  {
   "cell_type": "code",
   "execution_count": 51,
   "id": "dd686509",
   "metadata": {},
   "outputs": [
    {
     "name": "stderr",
     "output_type": "stream",
     "text": [
      "C:\\Users\\nikhi\\anaconda3\\lib\\site-packages\\statsmodels\\tsa\\arima_model.py:472: FutureWarning: \n",
      "statsmodels.tsa.arima_model.ARMA and statsmodels.tsa.arima_model.ARIMA have\n",
      "been deprecated in favor of statsmodels.tsa.arima.model.ARIMA (note the .\n",
      "between arima and model) and\n",
      "statsmodels.tsa.SARIMAX. These will be removed after the 0.12 release.\n",
      "\n",
      "statsmodels.tsa.arima.model.ARIMA makes use of the statespace framework and\n",
      "is both well tested and maintained.\n",
      "\n",
      "To silence this warning and continue using ARMA and ARIMA until they are\n",
      "removed, use:\n",
      "\n",
      "import warnings\n",
      "warnings.filterwarnings('ignore', 'statsmodels.tsa.arima_model.ARMA',\n",
      "                        FutureWarning)\n",
      "warnings.filterwarnings('ignore', 'statsmodels.tsa.arima_model.ARIMA',\n",
      "                        FutureWarning)\n",
      "\n",
      "  warnings.warn(ARIMA_DEPRECATION_WARN, FutureWarning)\n"
     ]
    }
   ],
   "source": [
    "df_model_fit = df_model.fit()"
   ]
  },
  {
   "cell_type": "code",
   "execution_count": 53,
   "id": "dc0c9776",
   "metadata": {},
   "outputs": [
    {
     "data": {
      "text/plain": [
       "1679.415452785956"
      ]
     },
     "execution_count": 53,
     "metadata": {},
     "output_type": "execute_result"
    }
   ],
   "source": [
    "df_model_fit.aic"
   ]
  },
  {
   "cell_type": "code",
   "execution_count": 55,
   "id": "d1775af5",
   "metadata": {},
   "outputs": [],
   "source": [
    "df_forecast = df_model_fit.forecast(steps=59)[0]"
   ]
  },
  {
   "cell_type": "code",
   "execution_count": 56,
   "id": "3091b272",
   "metadata": {},
   "outputs": [
    {
     "data": {
      "text/plain": [
       "124.94014937204882"
      ]
     },
     "execution_count": 56,
     "metadata": {},
     "output_type": "execute_result"
    }
   ],
   "source": [
    "np.sqrt(mean_squared_error(df_test, df_forecast))"
   ]
  },
  {
   "cell_type": "code",
   "execution_count": 57,
   "id": "dca2bada",
   "metadata": {},
   "outputs": [],
   "source": [
    "p_values = range(0,5)\n",
    "d_values = range(0,3)\n",
    "q_values = range(0,5)"
   ]
  },
  {
   "cell_type": "code",
   "execution_count": 58,
   "id": "ba339d30",
   "metadata": {},
   "outputs": [],
   "source": [
    "import warnings\n",
    "warnings.filterwarnings(\"ignore\")"
   ]
  },
  {
   "cell_type": "code",
   "execution_count": 62,
   "id": "c76b47fa",
   "metadata": {},
   "outputs": [
    {
     "name": "stdout",
     "output_type": "stream",
     "text": [
      "ARIMA(0, 0, 1) : RMSE = 3406.75\n",
      "ARIMA(0, 0, 2) : RMSE = 3976.63\n",
      "ARIMA(0, 0, 3) : RMSE = 4204.88\n",
      "ARIMA(0, 0, 4) : RMSE = 5056.63\n",
      "ARIMA(0, 1, 1) : RMSE = 6197.10\n",
      "ARIMA(0, 1, 2) : RMSE = 11522.62\n",
      "ARIMA(0, 1, 3) : RMSE = 7755.38\n",
      "ARIMA(0, 1, 4) : RMSE = 7441.31\n",
      "ARIMA(0, 2, 1) : RMSE = 13648.96\n",
      "ARIMA(0, 2, 2) : RMSE = 5844.91\n",
      "ARIMA(0, 2, 3) : RMSE = 6811.32\n",
      "ARIMA(0, 2, 4) : RMSE = 7120.72\n",
      "ARIMA(1, 0, 0) : RMSE = 5870.51\n",
      "ARIMA(1, 0, 1) : RMSE = 5504.38\n",
      "ARIMA(1, 0, 2) : RMSE = 7109.25\n",
      "ARIMA(1, 0, 3) : RMSE = 5700.63\n",
      "ARIMA(1, 0, 4) : RMSE = 5669.93\n",
      "ARIMA(1, 1, 0) : RMSE = 11857.40\n",
      "ARIMA(1, 1, 1) : RMSE = 10607.31\n",
      "ARIMA(1, 1, 2) : RMSE = 10679.42\n",
      "ARIMA(1, 1, 3) : RMSE = 7171.18\n",
      "ARIMA(1, 1, 4) : RMSE = 7114.29\n",
      "ARIMA(1, 2, 0) : RMSE = 20895.66\n",
      "ARIMA(2, 0, 0) : RMSE = 5866.40\n",
      "ARIMA(2, 0, 1) : RMSE = 13017.78\n",
      "ARIMA(2, 0, 2) : RMSE = 14314.74\n",
      "ARIMA(2, 0, 3) : RMSE = 10585.43\n",
      "ARIMA(2, 0, 4) : RMSE = 8111.38\n",
      "ARIMA(2, 1, 0) : RMSE = 9228.63\n",
      "ARIMA(2, 1, 1) : RMSE = 7651.51\n",
      "ARIMA(2, 1, 2) : RMSE = 10684.59\n",
      "ARIMA(2, 1, 3) : RMSE = 10719.99\n",
      "ARIMA(2, 1, 4) : RMSE = 7006.35\n",
      "ARIMA(2, 2, 0) : RMSE = 17216.32\n",
      "ARIMA(2, 2, 1) : RMSE = 9802.11\n",
      "ARIMA(2, 2, 2) : RMSE = 7299.29\n",
      "ARIMA(3, 0, 0) : RMSE = 6076.25\n",
      "ARIMA(3, 0, 1) : RMSE = 5910.67\n",
      "ARIMA(3, 0, 2) : RMSE = 12309.99\n",
      "ARIMA(3, 0, 3) : RMSE = 8962.09\n",
      "ARIMA(3, 1, 0) : RMSE = 8795.69\n",
      "ARIMA(3, 1, 1) : RMSE = 8057.77\n",
      "ARIMA(3, 1, 2) : RMSE = 7750.95\n",
      "ARIMA(3, 1, 3) : RMSE = 7060.83\n",
      "ARIMA(3, 1, 4) : RMSE = 7079.83\n",
      "ARIMA(3, 2, 0) : RMSE = 14594.64\n",
      "ARIMA(3, 2, 1) : RMSE = 9341.37\n",
      "ARIMA(3, 2, 2) : RMSE = 9629.46\n",
      "ARIMA(4, 0, 0) : RMSE = 6042.98\n",
      "ARIMA(4, 0, 1) : RMSE = 9446.90\n",
      "ARIMA(4, 0, 2) : RMSE = 8869.35\n",
      "ARIMA(4, 0, 3) : RMSE = 8163.24\n",
      "ARIMA(4, 1, 0) : RMSE = 8851.73\n",
      "ARIMA(4, 1, 1) : RMSE = 7564.53\n",
      "ARIMA(4, 1, 2) : RMSE = 7524.48\n",
      "ARIMA(4, 1, 3) : RMSE = 4758.63\n",
      "ARIMA(4, 1, 4) : RMSE = 6356.43\n",
      "ARIMA(4, 2, 0) : RMSE = 14362.09\n",
      "ARIMA(4, 2, 1) : RMSE = 9411.11\n",
      "ARIMA(4, 2, 2) : RMSE = 7739.37\n"
     ]
    }
   ],
   "source": [
    "for p in p_values:\n",
    "    for d in d_values:\n",
    "        for q in q_values:\n",
    "            order = (p,d,q)\n",
    "            train, test = df_train, df_test\n",
    "            predictions = list()\n",
    "            for i in range(len(test)):\n",
    "                try:\n",
    "                    model = ARIMA(train, order)\n",
    "                    model_fit = model.fit(disp=0)\n",
    "                    pred_y = model_fit.forecast()[0]\n",
    "                    predictions.append(pred_y)\n",
    "                    error = mean_squared_error(test, predictions)\n",
    "                    print(\"ARIMA%s : RMSE = %.2f\"%(order,error))\n",
    "                except:\n",
    "                    continue"
   ]
  },
  {
   "cell_type": "code",
   "execution_count": 63,
   "id": "e2cb2df3",
   "metadata": {},
   "outputs": [],
   "source": [
    "df_model = ARIMA(df_train, order=(0,0,1))"
   ]
  },
  {
   "cell_type": "code",
   "execution_count": 64,
   "id": "bdf1e95c",
   "metadata": {},
   "outputs": [],
   "source": [
    "df_model_fit = df_model.fit()"
   ]
  },
  {
   "cell_type": "code",
   "execution_count": 65,
   "id": "e795576e",
   "metadata": {},
   "outputs": [
    {
     "data": {
      "text/plain": [
       "1741.28575791582"
      ]
     },
     "execution_count": 65,
     "metadata": {},
     "output_type": "execute_result"
    }
   ],
   "source": [
    "df_model_fit.aic"
   ]
  },
  {
   "cell_type": "code",
   "execution_count": 66,
   "id": "2486beca",
   "metadata": {},
   "outputs": [],
   "source": [
    "df_forecast = df_model_fit.forecast(steps=59)[0]"
   ]
  },
  {
   "cell_type": "code",
   "execution_count": 67,
   "id": "782b42d5",
   "metadata": {},
   "outputs": [
    {
     "data": {
      "text/plain": [
       "75.95739593572857"
      ]
     },
     "execution_count": 67,
     "metadata": {},
     "output_type": "execute_result"
    }
   ],
   "source": [
    "np.sqrt(mean_squared_error(df_test, df_forecast))"
   ]
  },
  {
   "cell_type": "code",
   "execution_count": 68,
   "id": "8b079dd6",
   "metadata": {},
   "outputs": [
    {
     "data": {
      "text/plain": [
       "array([101.07340151, 169.22716993, 169.22716993, 169.22716993,\n",
       "       169.22716993, 169.22716993, 169.22716993, 169.22716993,\n",
       "       169.22716993, 169.22716993, 169.22716993, 169.22716993,\n",
       "       169.22716993, 169.22716993, 169.22716993, 169.22716993,\n",
       "       169.22716993, 169.22716993, 169.22716993, 169.22716993,\n",
       "       169.22716993, 169.22716993, 169.22716993, 169.22716993,\n",
       "       169.22716993, 169.22716993, 169.22716993, 169.22716993,\n",
       "       169.22716993, 169.22716993, 169.22716993, 169.22716993,\n",
       "       169.22716993, 169.22716993, 169.22716993, 169.22716993,\n",
       "       169.22716993, 169.22716993, 169.22716993, 169.22716993,\n",
       "       169.22716993, 169.22716993, 169.22716993, 169.22716993,\n",
       "       169.22716993, 169.22716993, 169.22716993, 169.22716993,\n",
       "       169.22716993, 169.22716993, 169.22716993, 169.22716993,\n",
       "       169.22716993, 169.22716993, 169.22716993, 169.22716993,\n",
       "       169.22716993, 169.22716993, 169.22716993])"
      ]
     },
     "execution_count": 68,
     "metadata": {},
     "output_type": "execute_result"
    }
   ],
   "source": [
    "df_forecast"
   ]
  },
  {
   "cell_type": "code",
   "execution_count": 69,
   "id": "672fbabe",
   "metadata": {},
   "outputs": [
    {
     "data": {
      "text/plain": [
       "date\n",
       "2019-06-03     78\n",
       "2019-06-04     70\n",
       "2019-06-05     74\n",
       "2019-06-06     75\n",
       "2019-06-07     94\n",
       "2019-06-08     54\n",
       "2019-06-09     25\n",
       "2019-06-10     82\n",
       "2019-06-11    126\n",
       "2019-06-12     96\n",
       "2019-06-13     75\n",
       "2019-06-14     87\n",
       "2019-06-15     69\n",
       "2019-06-16     34\n",
       "2019-06-17    173\n",
       "2019-06-18    162\n",
       "2019-06-19    110\n",
       "2019-06-20    109\n",
       "2019-06-21    127\n",
       "2019-06-22     72\n",
       "2019-06-23     18\n",
       "2019-06-24    151\n",
       "2019-06-25    106\n",
       "2019-06-26    124\n",
       "2019-06-27    111\n",
       "2019-06-28     93\n",
       "2019-06-29     55\n",
       "2019-06-30     32\n",
       "2019-07-01     97\n",
       "2019-07-02    100\n",
       "2019-07-03     91\n",
       "2019-07-04    139\n",
       "2019-07-05    195\n",
       "2019-07-06     56\n",
       "2019-07-07     42\n",
       "2019-07-08    135\n",
       "2019-07-09    123\n",
       "2019-07-10    136\n",
       "2019-07-11    142\n",
       "2019-07-12    139\n",
       "2019-07-13     82\n",
       "2019-07-14     35\n",
       "2019-07-15    168\n",
       "2019-07-16    135\n",
       "2019-07-17    213\n",
       "2019-07-18    317\n",
       "2019-07-19    158\n",
       "2019-07-20    175\n",
       "2019-07-21    114\n",
       "2019-07-22    148\n",
       "2019-07-23    133\n",
       "2019-07-24    178\n",
       "2019-07-25    239\n",
       "2019-07-26    207\n",
       "2019-07-27    158\n",
       "2019-07-28     73\n",
       "2019-07-29    160\n",
       "2019-07-30    146\n",
       "2019-07-31    178\n",
       "Name: dish_id_1, dtype: int64"
      ]
     },
     "execution_count": 69,
     "metadata": {},
     "output_type": "execute_result"
    }
   ],
   "source": [
    "df_test"
   ]
  },
  {
   "cell_type": "code",
   "execution_count": null,
   "id": "7f87c614",
   "metadata": {},
   "outputs": [],
   "source": []
  }
 ],
 "metadata": {
  "kernelspec": {
   "display_name": "Python 3",
   "language": "python",
   "name": "python3"
  },
  "language_info": {
   "codemirror_mode": {
    "name": "ipython",
    "version": 3
   },
   "file_extension": ".py",
   "mimetype": "text/x-python",
   "name": "python",
   "nbconvert_exporter": "python",
   "pygments_lexer": "ipython3",
   "version": "3.8.8"
  }
 },
 "nbformat": 4,
 "nbformat_minor": 5
}
